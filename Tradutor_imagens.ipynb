{
  "nbformat": 4,
  "nbformat_minor": 0,
  "metadata": {
    "colab": {
      "provenance": []
    },
    "kernelspec": {
      "name": "python3",
      "display_name": "Python 3"
    },
    "language_info": {
      "name": "python"
    }
  },
  "cells": [
    {
      "cell_type": "markdown",
      "source": [
        "# Instalação do \"google-genai\" e importação da Chave API do Google AI Studio"
      ],
      "metadata": {
        "id": "iwlUaNOpa2Rx"
      }
    },
    {
      "cell_type": "code",
      "source": [
        "!pip install google-genai\n",
        "import os\n",
        "from google.colab import userdata\n",
        "\n",
        "os.environ['GOOGLE_API_KEY'] = userdata.get('GOOGLE_API_KEY')"
      ],
      "metadata": {
        "colab": {
          "base_uri": "https://localhost:8080/"
        },
        "id": "p_mPPQGuUhEJ",
        "outputId": "3a0a4d18-d522-4008-d3b9-7b4077e8dd9c"
      },
      "execution_count": null,
      "outputs": [
        {
          "output_type": "stream",
          "name": "stdout",
          "text": [
            "Requirement already satisfied: google-genai in /usr/local/lib/python3.11/dist-packages (1.15.0)\n",
            "Requirement already satisfied: anyio<5.0.0,>=4.8.0 in /usr/local/lib/python3.11/dist-packages (from google-genai) (4.9.0)\n",
            "Requirement already satisfied: google-auth<3.0.0,>=2.14.1 in /usr/local/lib/python3.11/dist-packages (from google-genai) (2.38.0)\n",
            "Requirement already satisfied: httpx<1.0.0,>=0.28.1 in /usr/local/lib/python3.11/dist-packages (from google-genai) (0.28.1)\n",
            "Requirement already satisfied: pydantic<3.0.0,>=2.0.0 in /usr/local/lib/python3.11/dist-packages (from google-genai) (2.11.4)\n",
            "Requirement already satisfied: requests<3.0.0,>=2.28.1 in /usr/local/lib/python3.11/dist-packages (from google-genai) (2.32.3)\n",
            "Requirement already satisfied: websockets<15.1.0,>=13.0.0 in /usr/local/lib/python3.11/dist-packages (from google-genai) (15.0.1)\n",
            "Requirement already satisfied: typing-extensions<5.0.0,>=4.11.0 in /usr/local/lib/python3.11/dist-packages (from google-genai) (4.13.2)\n",
            "Requirement already satisfied: idna>=2.8 in /usr/local/lib/python3.11/dist-packages (from anyio<5.0.0,>=4.8.0->google-genai) (3.10)\n",
            "Requirement already satisfied: sniffio>=1.1 in /usr/local/lib/python3.11/dist-packages (from anyio<5.0.0,>=4.8.0->google-genai) (1.3.1)\n",
            "Requirement already satisfied: cachetools<6.0,>=2.0.0 in /usr/local/lib/python3.11/dist-packages (from google-auth<3.0.0,>=2.14.1->google-genai) (5.5.2)\n",
            "Requirement already satisfied: pyasn1-modules>=0.2.1 in /usr/local/lib/python3.11/dist-packages (from google-auth<3.0.0,>=2.14.1->google-genai) (0.4.2)\n",
            "Requirement already satisfied: rsa<5,>=3.1.4 in /usr/local/lib/python3.11/dist-packages (from google-auth<3.0.0,>=2.14.1->google-genai) (4.9.1)\n",
            "Requirement already satisfied: certifi in /usr/local/lib/python3.11/dist-packages (from httpx<1.0.0,>=0.28.1->google-genai) (2025.4.26)\n",
            "Requirement already satisfied: httpcore==1.* in /usr/local/lib/python3.11/dist-packages (from httpx<1.0.0,>=0.28.1->google-genai) (1.0.9)\n",
            "Requirement already satisfied: h11>=0.16 in /usr/local/lib/python3.11/dist-packages (from httpcore==1.*->httpx<1.0.0,>=0.28.1->google-genai) (0.16.0)\n",
            "Requirement already satisfied: annotated-types>=0.6.0 in /usr/local/lib/python3.11/dist-packages (from pydantic<3.0.0,>=2.0.0->google-genai) (0.7.0)\n",
            "Requirement already satisfied: pydantic-core==2.33.2 in /usr/local/lib/python3.11/dist-packages (from pydantic<3.0.0,>=2.0.0->google-genai) (2.33.2)\n",
            "Requirement already satisfied: typing-inspection>=0.4.0 in /usr/local/lib/python3.11/dist-packages (from pydantic<3.0.0,>=2.0.0->google-genai) (0.4.0)\n",
            "Requirement already satisfied: charset-normalizer<4,>=2 in /usr/local/lib/python3.11/dist-packages (from requests<3.0.0,>=2.28.1->google-genai) (3.4.2)\n",
            "Requirement already satisfied: urllib3<3,>=1.21.1 in /usr/local/lib/python3.11/dist-packages (from requests<3.0.0,>=2.28.1->google-genai) (2.4.0)\n",
            "Requirement already satisfied: pyasn1<0.7.0,>=0.6.1 in /usr/local/lib/python3.11/dist-packages (from pyasn1-modules>=0.2.1->google-auth<3.0.0,>=2.14.1->google-genai) (0.6.1)\n"
          ]
        }
      ]
    },
    {
      "cell_type": "markdown",
      "source": [
        "# Tradução da imagem para o texto (Inglês)"
      ],
      "metadata": {
        "id": "Y_5vx7h1bRCw"
      }
    },
    {
      "cell_type": "code",
      "source": [
        "from transformers import pipeline\n",
        "from PIL import Image\n",
        "\n",
        "# Carrega o pipeline de legenda de imagens (o modelo padrão é \"nlpconnect/vit-gpt2-image-captioning\")\n",
        "image_to_text = pipeline(\"image-to-text\")\n",
        "\n",
        "# Carrega a imagem que você quer descrever\n",
        "image_path = \"ambiente.jpg\"  # Substitua pelo caminho da sua imagem\n",
        "image = Image.open(image_path)\n",
        "\n",
        "# Gera a legenda da imagem\n",
        "description = image_to_text(image)[0]['generated_text']\n",
        "\n",
        "print(f\"Descrição da imagem: {description}\")"
      ],
      "metadata": {
        "colab": {
          "base_uri": "https://localhost:8080/"
        },
        "id": "0IowvPqpTRMV",
        "outputId": "9d2a801b-9814-4f90-9901-4bb070271a81"
      },
      "execution_count": null,
      "outputs": [
        {
          "output_type": "stream",
          "name": "stderr",
          "text": [
            "No model was supplied, defaulted to ydshieh/vit-gpt2-coco-en and revision 5bebf1e (https://huggingface.co/ydshieh/vit-gpt2-coco-en).\n",
            "Using a pipeline without specifying a model name and revision in production is not recommended.\n",
            "Config of the encoder: <class 'transformers.models.vit.modeling_vit.ViTModel'> is overwritten by shared encoder config: ViTConfig {\n",
            "  \"architectures\": [\n",
            "    \"ViTModel\"\n",
            "  ],\n",
            "  \"attention_probs_dropout_prob\": 0.0,\n",
            "  \"encoder_stride\": 16,\n",
            "  \"hidden_act\": \"gelu\",\n",
            "  \"hidden_dropout_prob\": 0.0,\n",
            "  \"hidden_size\": 768,\n",
            "  \"image_size\": 224,\n",
            "  \"initializer_range\": 0.02,\n",
            "  \"intermediate_size\": 3072,\n",
            "  \"layer_norm_eps\": 1e-12,\n",
            "  \"model_type\": \"vit\",\n",
            "  \"num_attention_heads\": 12,\n",
            "  \"num_channels\": 3,\n",
            "  \"num_hidden_layers\": 12,\n",
            "  \"patch_size\": 16,\n",
            "  \"pooler_act\": \"tanh\",\n",
            "  \"pooler_output_size\": 768,\n",
            "  \"qkv_bias\": true,\n",
            "  \"torch_dtype\": \"float32\",\n",
            "  \"transformers_version\": \"4.51.3\"\n",
            "}\n",
            "\n",
            "Config of the decoder: <class 'transformers.models.gpt2.modeling_gpt2.GPT2LMHeadModel'> is overwritten by shared decoder config: GPT2Config {\n",
            "  \"activation_function\": \"gelu_new\",\n",
            "  \"add_cross_attention\": true,\n",
            "  \"architectures\": [\n",
            "    \"GPT2LMHeadModel\"\n",
            "  ],\n",
            "  \"attn_pdrop\": 0.1,\n",
            "  \"bos_token_id\": 50256,\n",
            "  \"decoder_start_token_id\": 50256,\n",
            "  \"embd_pdrop\": 0.1,\n",
            "  \"eos_token_id\": 50256,\n",
            "  \"initializer_range\": 0.02,\n",
            "  \"is_decoder\": true,\n",
            "  \"layer_norm_epsilon\": 1e-05,\n",
            "  \"model_type\": \"gpt2\",\n",
            "  \"n_ctx\": 1024,\n",
            "  \"n_embd\": 768,\n",
            "  \"n_head\": 12,\n",
            "  \"n_inner\": null,\n",
            "  \"n_layer\": 12,\n",
            "  \"n_positions\": 1024,\n",
            "  \"pad_token_id\": 50256,\n",
            "  \"reorder_and_upcast_attn\": false,\n",
            "  \"resid_pdrop\": 0.1,\n",
            "  \"scale_attn_by_inverse_layer_idx\": false,\n",
            "  \"scale_attn_weights\": true,\n",
            "  \"summary_activation\": null,\n",
            "  \"summary_first_dropout\": 0.1,\n",
            "  \"summary_proj_to_labels\": true,\n",
            "  \"summary_type\": \"cls_index\",\n",
            "  \"summary_use_proj\": true,\n",
            "  \"task_specific_params\": {\n",
            "    \"text-generation\": {\n",
            "      \"do_sample\": true,\n",
            "      \"max_length\": 50\n",
            "    }\n",
            "  },\n",
            "  \"torch_dtype\": \"float32\",\n",
            "  \"transformers_version\": \"4.51.3\",\n",
            "  \"use_cache\": true,\n",
            "  \"vocab_size\": 50257\n",
            "}\n",
            "\n",
            "Device set to use cpu\n"
          ]
        },
        {
          "output_type": "stream",
          "name": "stdout",
          "text": [
            "Descrição da imagem: a river with a lake and trees \n"
          ]
        }
      ]
    },
    {
      "cell_type": "markdown",
      "source": [
        "#"
      ],
      "metadata": {
        "id": "mcFlriLIccFo"
      }
    },
    {
      "cell_type": "markdown",
      "source": [
        "# Tradução da imagem para o texto (Português)"
      ],
      "metadata": {
        "id": "4jZgzSn8chMQ"
      }
    },
    {
      "cell_type": "code",
      "source": [
        "!pip install --upgrade googletrans==4.0.0-rc1 httpx httpcore\n",
        "\n",
        "from transformers import pipeline\n",
        "from PIL import Image\n",
        "from googletrans import Translator\n",
        "\n",
        "# Carrega o pipeline de legenda de imagens (geralmente em inglês)\n",
        "image_to_text = pipeline(\"image-to-text\")\n",
        "\n",
        "# Inicializa o tradutor\n",
        "translator = Translator()\n",
        "\n",
        "# Carrega a imagem que você quer descrever\n",
        "image_path = \"ambiente.jpg\"  # Substitua pelo caminho da sua imagem\n",
        "image = Image.open(image_path)\n",
        "\n",
        "# Gera a legenda da imagem (em inglês)\n",
        "description_en = image_to_text(image)[0]['generated_text']\n",
        "print(f\"Descrição em inglês: {description_en}\")\n",
        "\n",
        "# Traduz a descrição do inglês para o português\n",
        "translation = translator.translate(description_en, dest='pt')\n",
        "description_pt = translation.text\n",
        "\n",
        "print(f\"Descrição traduzida para português: {description_pt}\")"
      ],
      "metadata": {
        "colab": {
          "base_uri": "https://localhost:8080/"
        },
        "id": "HGFvyQ3VUOJU",
        "outputId": "43c0850a-3f60-43c3-d107-13c998e8be39"
      },
      "execution_count": 7,
      "outputs": [
        {
          "output_type": "stream",
          "name": "stdout",
          "text": [
            "Requirement already satisfied: googletrans==4.0.0-rc1 in /usr/local/lib/python3.11/dist-packages (4.0.0rc1)\n",
            "Requirement already satisfied: httpx in /usr/local/lib/python3.11/dist-packages (0.13.3)\n",
            "Collecting httpx\n",
            "  Using cached httpx-0.28.1-py3-none-any.whl.metadata (7.1 kB)\n",
            "Requirement already satisfied: httpcore in /usr/local/lib/python3.11/dist-packages (0.9.1)\n",
            "Collecting httpcore\n",
            "  Using cached httpcore-1.0.9-py3-none-any.whl.metadata (21 kB)\n",
            "Requirement already satisfied: certifi in /usr/local/lib/python3.11/dist-packages (from httpx) (2025.4.26)\n",
            "Requirement already satisfied: hstspreload in /usr/local/lib/python3.11/dist-packages (from httpx) (2025.1.1)\n",
            "Requirement already satisfied: sniffio in /usr/local/lib/python3.11/dist-packages (from httpx) (1.3.1)\n",
            "Requirement already satisfied: chardet==3.* in /usr/local/lib/python3.11/dist-packages (from httpx) (3.0.4)\n",
            "Requirement already satisfied: idna==2.* in /usr/local/lib/python3.11/dist-packages (from httpx) (2.10)\n",
            "Requirement already satisfied: rfc3986<2,>=1.3 in /usr/local/lib/python3.11/dist-packages (from httpx) (1.5.0)\n",
            "Requirement already satisfied: h11<0.10,>=0.8 in /usr/local/lib/python3.11/dist-packages (from httpcore) (0.9.0)\n",
            "Requirement already satisfied: h2==3.* in /usr/local/lib/python3.11/dist-packages (from httpcore) (3.2.0)\n",
            "Requirement already satisfied: hyperframe<6,>=5.2.0 in /usr/local/lib/python3.11/dist-packages (from h2==3.*->httpcore) (5.2.0)\n",
            "Requirement already satisfied: hpack<4,>=3.0 in /usr/local/lib/python3.11/dist-packages (from h2==3.*->httpcore) (3.0.0)\n"
          ]
        },
        {
          "output_type": "stream",
          "name": "stderr",
          "text": [
            "No model was supplied, defaulted to ydshieh/vit-gpt2-coco-en and revision 5bebf1e (https://huggingface.co/ydshieh/vit-gpt2-coco-en).\n",
            "Using a pipeline without specifying a model name and revision in production is not recommended.\n",
            "Config of the encoder: <class 'transformers.models.vit.modeling_vit.ViTModel'> is overwritten by shared encoder config: ViTConfig {\n",
            "  \"architectures\": [\n",
            "    \"ViTModel\"\n",
            "  ],\n",
            "  \"attention_probs_dropout_prob\": 0.0,\n",
            "  \"encoder_stride\": 16,\n",
            "  \"hidden_act\": \"gelu\",\n",
            "  \"hidden_dropout_prob\": 0.0,\n",
            "  \"hidden_size\": 768,\n",
            "  \"image_size\": 224,\n",
            "  \"initializer_range\": 0.02,\n",
            "  \"intermediate_size\": 3072,\n",
            "  \"layer_norm_eps\": 1e-12,\n",
            "  \"model_type\": \"vit\",\n",
            "  \"num_attention_heads\": 12,\n",
            "  \"num_channels\": 3,\n",
            "  \"num_hidden_layers\": 12,\n",
            "  \"patch_size\": 16,\n",
            "  \"pooler_act\": \"tanh\",\n",
            "  \"pooler_output_size\": 768,\n",
            "  \"qkv_bias\": true,\n",
            "  \"torch_dtype\": \"float32\",\n",
            "  \"transformers_version\": \"4.51.3\"\n",
            "}\n",
            "\n",
            "Config of the decoder: <class 'transformers.models.gpt2.modeling_gpt2.GPT2LMHeadModel'> is overwritten by shared decoder config: GPT2Config {\n",
            "  \"activation_function\": \"gelu_new\",\n",
            "  \"add_cross_attention\": true,\n",
            "  \"architectures\": [\n",
            "    \"GPT2LMHeadModel\"\n",
            "  ],\n",
            "  \"attn_pdrop\": 0.1,\n",
            "  \"bos_token_id\": 50256,\n",
            "  \"decoder_start_token_id\": 50256,\n",
            "  \"embd_pdrop\": 0.1,\n",
            "  \"eos_token_id\": 50256,\n",
            "  \"initializer_range\": 0.02,\n",
            "  \"is_decoder\": true,\n",
            "  \"layer_norm_epsilon\": 1e-05,\n",
            "  \"model_type\": \"gpt2\",\n",
            "  \"n_ctx\": 1024,\n",
            "  \"n_embd\": 768,\n",
            "  \"n_head\": 12,\n",
            "  \"n_inner\": null,\n",
            "  \"n_layer\": 12,\n",
            "  \"n_positions\": 1024,\n",
            "  \"pad_token_id\": 50256,\n",
            "  \"reorder_and_upcast_attn\": false,\n",
            "  \"resid_pdrop\": 0.1,\n",
            "  \"scale_attn_by_inverse_layer_idx\": false,\n",
            "  \"scale_attn_weights\": true,\n",
            "  \"summary_activation\": null,\n",
            "  \"summary_first_dropout\": 0.1,\n",
            "  \"summary_proj_to_labels\": true,\n",
            "  \"summary_type\": \"cls_index\",\n",
            "  \"summary_use_proj\": true,\n",
            "  \"task_specific_params\": {\n",
            "    \"text-generation\": {\n",
            "      \"do_sample\": true,\n",
            "      \"max_length\": 50\n",
            "    }\n",
            "  },\n",
            "  \"torch_dtype\": \"float32\",\n",
            "  \"transformers_version\": \"4.51.3\",\n",
            "  \"use_cache\": true,\n",
            "  \"vocab_size\": 50257\n",
            "}\n",
            "\n",
            "Device set to use cpu\n"
          ]
        },
        {
          "output_type": "stream",
          "name": "stdout",
          "text": [
            "Descrição em inglês: a river with a lake and trees \n",
            "Descrição traduzida para português: um rio com um lago e árvores\n"
          ]
        }
      ]
    },
    {
      "cell_type": "markdown",
      "source": [
        "# Utilização do BLIP (Bootstrapping Language-Image Pre-training) para uma descrição mais precisa e relevante"
      ],
      "metadata": {
        "id": "MhBID0pKeh-P"
      }
    },
    {
      "cell_type": "code",
      "source": [
        "import os\n",
        "from transformers import pipeline\n",
        "from PIL import Image\n",
        "\n",
        "# Especificando um modelo BLIP\n",
        "image_to_text_blip = pipeline(\"image-to-text\", model=\"Salesforce/blip-image-captioning-large\")\n",
        "\n",
        "# Substitua pelo caminho correto da sua imagem. Exemplo:\n",
        "# Se a imagem estiver em uma pasta chamada 'images' no mesmo diretório:\n",
        "# image_path = os.path.join(\"images\", \"imagem_tradutor.png\")\n",
        "\n",
        "# Se a imagem estiver em um caminho absoluto:\n",
        "image_path = \"/content/ambiente.jpg\" # Exemplo de caminho absoluto no Colab\n",
        "\n",
        "# Adicione estas linhas para verificar o diretório atual e listar arquivos\n",
        "print(f\"Current working directory: {os.getcwd()}\")\n",
        "print(f\"Files in current directory: {os.listdir()}\")\n",
        "\n",
        "# Adiciona esta verificação antes de tentar abrir o arquivo\n",
        "if not os.path.exists(image_path):\n",
        "    print(f\"Erro: O arquivo de imagem não foi encontrado em {image_path}\")\n",
        "    # Você pode adicionar aqui código para fazer upload do arquivo ou sair\n",
        "else:\n",
        "    try:\n",
        "        image = Image.open(image_path)\n",
        "        description_blip = image_to_text_blip(image)[0]['generated_text']\n",
        "        print(f\"Descrição com BLIP: {description_blip}\")\n",
        "    except Exception as e:\n",
        "        print(f\"Ocorreu um erro ao processar a imagem: {e}\")\n"
      ],
      "metadata": {
        "colab": {
          "base_uri": "https://localhost:8080/"
        },
        "id": "iFFQ33eoUgnk",
        "outputId": "4e3ccf96-2434-4505-c4d6-cc077ef66b63"
      },
      "execution_count": null,
      "outputs": [
        {
          "output_type": "stream",
          "name": "stderr",
          "text": [
            "Device set to use cpu\n"
          ]
        },
        {
          "output_type": "stream",
          "name": "stdout",
          "text": [
            "Current working directory: /content\n",
            "Files in current directory: ['.config', 'imagem_tradutor.jpg', 'ambiente.jpg', 'sample_data']\n",
            "Descrição com BLIP: a view of a lake with a few yellow flowers in the foreground\n"
          ]
        }
      ]
    },
    {
      "cell_type": "markdown",
      "source": [
        "# Tradução da imagem para áudio (.mp3) utilizando o gTTS (Google Text-to-Speech) (Inglês)"
      ],
      "metadata": {
        "id": "MxDfrAIsfAr_"
      }
    },
    {
      "cell_type": "code",
      "source": [
        "!pip install gtts\n",
        "from gtts import gTTS\n",
        "from transformers import pipeline\n",
        "from PIL import Image\n",
        "import os\n",
        "from IPython.display import Audio # Import Audio from IPython.display\n",
        "\n",
        "# Carrega o pipeline de legenda de imagens\n",
        "image_to_text = pipeline(\"image-to-text\")\n",
        "\n",
        "# Carrega a imagem\n",
        "image_path = \"imagem_tradutor.jpg\"  # Substitua pelo caminho da sua imagem\n",
        "image = Image.open(image_path)\n",
        "\n",
        "# Gera a descrição da imagem\n",
        "description = image_to_text(image)[0]['generated_text']\n",
        "print(f\"Descrição da imagem: {description}\")\n",
        "\n",
        "# Cria um objeto gTTS\n",
        "tts = gTTS(text=description, lang='pt')  # Define o idioma para português brasileiro\n",
        "\n",
        "# Salva o áudio em um arquivo temporário\n",
        "audio_file = \"temp_audio.mp3\"\n",
        "tts.save(audio_file)\n",
        "\n",
        "# Reproduz o áudio usando IPython.display.Audio\n",
        "# This will display an audio player in the notebook output\n",
        "display(Audio(audio_file, autoplay=True))\n",
        "\n",
        "# Remove o arquivo temporário (optional, you might want to keep it)\n",
        "# os.remove(audio_file)"
      ],
      "metadata": {
        "colab": {
          "base_uri": "https://localhost:8080/",
          "height": 1000
        },
        "id": "FecqekKtXJPT",
        "outputId": "6229fa0a-f62a-466e-99d7-75843ab41cb3"
      },
      "execution_count": null,
      "outputs": [
        {
          "output_type": "stream",
          "name": "stdout",
          "text": [
            "Requirement already satisfied: gtts in /usr/local/lib/python3.11/dist-packages (2.5.4)\n",
            "Requirement already satisfied: requests<3,>=2.27 in /usr/local/lib/python3.11/dist-packages (from gtts) (2.32.3)\n",
            "Requirement already satisfied: click<8.2,>=7.1 in /usr/local/lib/python3.11/dist-packages (from gtts) (8.1.8)\n",
            "Requirement already satisfied: charset-normalizer<4,>=2 in /usr/local/lib/python3.11/dist-packages (from requests<3,>=2.27->gtts) (3.4.2)\n",
            "Requirement already satisfied: idna<4,>=2.5 in /usr/local/lib/python3.11/dist-packages (from requests<3,>=2.27->gtts) (3.10)\n",
            "Requirement already satisfied: urllib3<3,>=1.21.1 in /usr/local/lib/python3.11/dist-packages (from requests<3,>=2.27->gtts) (2.4.0)\n",
            "Requirement already satisfied: certifi>=2017.4.17 in /usr/local/lib/python3.11/dist-packages (from requests<3,>=2.27->gtts) (2025.4.26)\n"
          ]
        },
        {
          "output_type": "stream",
          "name": "stderr",
          "text": [
            "No model was supplied, defaulted to ydshieh/vit-gpt2-coco-en and revision 5bebf1e (https://huggingface.co/ydshieh/vit-gpt2-coco-en).\n",
            "Using a pipeline without specifying a model name and revision in production is not recommended.\n",
            "Config of the encoder: <class 'transformers.models.vit.modeling_vit.ViTModel'> is overwritten by shared encoder config: ViTConfig {\n",
            "  \"architectures\": [\n",
            "    \"ViTModel\"\n",
            "  ],\n",
            "  \"attention_probs_dropout_prob\": 0.0,\n",
            "  \"encoder_stride\": 16,\n",
            "  \"hidden_act\": \"gelu\",\n",
            "  \"hidden_dropout_prob\": 0.0,\n",
            "  \"hidden_size\": 768,\n",
            "  \"image_size\": 224,\n",
            "  \"initializer_range\": 0.02,\n",
            "  \"intermediate_size\": 3072,\n",
            "  \"layer_norm_eps\": 1e-12,\n",
            "  \"model_type\": \"vit\",\n",
            "  \"num_attention_heads\": 12,\n",
            "  \"num_channels\": 3,\n",
            "  \"num_hidden_layers\": 12,\n",
            "  \"patch_size\": 16,\n",
            "  \"pooler_act\": \"tanh\",\n",
            "  \"pooler_output_size\": 768,\n",
            "  \"qkv_bias\": true,\n",
            "  \"torch_dtype\": \"float32\",\n",
            "  \"transformers_version\": \"4.51.3\"\n",
            "}\n",
            "\n",
            "Config of the decoder: <class 'transformers.models.gpt2.modeling_gpt2.GPT2LMHeadModel'> is overwritten by shared decoder config: GPT2Config {\n",
            "  \"activation_function\": \"gelu_new\",\n",
            "  \"add_cross_attention\": true,\n",
            "  \"architectures\": [\n",
            "    \"GPT2LMHeadModel\"\n",
            "  ],\n",
            "  \"attn_pdrop\": 0.1,\n",
            "  \"bos_token_id\": 50256,\n",
            "  \"decoder_start_token_id\": 50256,\n",
            "  \"embd_pdrop\": 0.1,\n",
            "  \"eos_token_id\": 50256,\n",
            "  \"initializer_range\": 0.02,\n",
            "  \"is_decoder\": true,\n",
            "  \"layer_norm_epsilon\": 1e-05,\n",
            "  \"model_type\": \"gpt2\",\n",
            "  \"n_ctx\": 1024,\n",
            "  \"n_embd\": 768,\n",
            "  \"n_head\": 12,\n",
            "  \"n_inner\": null,\n",
            "  \"n_layer\": 12,\n",
            "  \"n_positions\": 1024,\n",
            "  \"pad_token_id\": 50256,\n",
            "  \"reorder_and_upcast_attn\": false,\n",
            "  \"resid_pdrop\": 0.1,\n",
            "  \"scale_attn_by_inverse_layer_idx\": false,\n",
            "  \"scale_attn_weights\": true,\n",
            "  \"summary_activation\": null,\n",
            "  \"summary_first_dropout\": 0.1,\n",
            "  \"summary_proj_to_labels\": true,\n",
            "  \"summary_type\": \"cls_index\",\n",
            "  \"summary_use_proj\": true,\n",
            "  \"task_specific_params\": {\n",
            "    \"text-generation\": {\n",
            "      \"do_sample\": true,\n",
            "      \"max_length\": 50\n",
            "    }\n",
            "  },\n",
            "  \"torch_dtype\": \"float32\",\n",
            "  \"transformers_version\": \"4.51.3\",\n",
            "  \"use_cache\": true,\n",
            "  \"vocab_size\": 50257\n",
            "}\n",
            "\n",
            "Device set to use cpu\n",
            "WARNING:gtts.lang:'pt-br' has been deprecated, falling back to 'pt'. This fallback will be removed in a future version.\n"
          ]
        },
        {
          "output_type": "stream",
          "name": "stdout",
          "text": [
            "Descrição da imagem: a woman with a red hair and a blue eye \n"
          ]
        },
        {
          "output_type": "display_data",
          "data": {
            "text/plain": [
              "<IPython.lib.display.Audio object>"
            ],
            "text/html": [
              "\n",
              "                <audio  controls=\"controls\" autoplay=\"autoplay\">\n",
              "                    <source src=\"data:audio/mpeg;base64,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\" type=\"audio/mpeg\" />\n",
              "                    Your browser does not support the audio element.\n",
              "                </audio>\n",
              "              "
            ]
          },
          "metadata": {}
        }
      ]
    },
    {
      "cell_type": "markdown",
      "source": [
        "# Tradução da imagem para áudio (.mp3) utilizando o gTTS (Google Text-to-Speech) (Português)"
      ],
      "metadata": {
        "id": "bJ46ITiffZCW"
      }
    },
    {
      "cell_type": "code",
      "source": [
        "!pip install --upgrade googletrans==4.0.0-rc1 httpx httpcore\n",
        "from transformers import pipeline\n",
        "from PIL import Image\n",
        "from googletrans import Translator\n",
        "from gtts import gTTS\n",
        "# from playsound import playsound # Remove playsound import\n",
        "import os\n",
        "from IPython.display import Audio, display # Import Audio and display\n",
        "\n",
        "# Carrega o pipeline de legenda de imagens (geralmente em inglês)\n",
        "image_to_text_en = pipeline(\"image-to-text\")\n",
        "\n",
        "# Inicializa o tradutor\n",
        "translator = Translator()\n",
        "\n",
        "# Carrega a imagem\n",
        "image_path = \"ambiente.jpg\"\n",
        "image = Image.open(image_path)\n",
        "\n",
        "# Gera a descrição em inglês\n",
        "description_en = image_to_text_en(image)[0]['generated_text']\n",
        "print(f\"Descrição em inglês: {description_en}\")\n",
        "\n",
        "# Traduz para português\n",
        "translation = translator.translate(description_en, dest='pt')\n",
        "description_pt = translation.text\n",
        "print(f\"Descrição traduzida para português: {description_pt}\")\n",
        "\n",
        "# Cria o áudio em português\n",
        "tts_pt = gTTS(text=description_pt, lang='pt')\n",
        "audio_file_pt = \"temp_audio_pt.mp3\"\n",
        "tts_pt.save(audio_file_pt)\n",
        "\n",
        "# Reproduz o áudio usando IPython.display.Audio\n",
        "display(Audio(audio_file_pt, autoplay=True))\n",
        "\n",
        "# Remove o arquivo temporário (optional, you might want to keep it)\n",
        "# os.remove(audio_file_pt)"
      ],
      "metadata": {
        "colab": {
          "base_uri": "https://localhost:8080/",
          "height": 1000
        },
        "id": "sN5lkK9bYIlC",
        "outputId": "0b34c2c5-66ba-4f1b-87de-ebbb98ab2d69"
      },
      "execution_count": 5,
      "outputs": [
        {
          "output_type": "stream",
          "name": "stdout",
          "text": [
            "Requirement already satisfied: googletrans==4.0.0-rc1 in /usr/local/lib/python3.11/dist-packages (4.0.0rc1)\n",
            "Requirement already satisfied: httpx in /usr/local/lib/python3.11/dist-packages (0.13.3)\n",
            "Collecting httpx\n",
            "  Using cached httpx-0.28.1-py3-none-any.whl.metadata (7.1 kB)\n",
            "Requirement already satisfied: httpcore in /usr/local/lib/python3.11/dist-packages (0.9.1)\n",
            "Collecting httpcore\n",
            "  Using cached httpcore-1.0.9-py3-none-any.whl.metadata (21 kB)\n",
            "Requirement already satisfied: certifi in /usr/local/lib/python3.11/dist-packages (from httpx) (2025.4.26)\n",
            "Requirement already satisfied: hstspreload in /usr/local/lib/python3.11/dist-packages (from httpx) (2025.1.1)\n",
            "Requirement already satisfied: sniffio in /usr/local/lib/python3.11/dist-packages (from httpx) (1.3.1)\n",
            "Requirement already satisfied: chardet==3.* in /usr/local/lib/python3.11/dist-packages (from httpx) (3.0.4)\n",
            "Requirement already satisfied: idna==2.* in /usr/local/lib/python3.11/dist-packages (from httpx) (2.10)\n",
            "Requirement already satisfied: rfc3986<2,>=1.3 in /usr/local/lib/python3.11/dist-packages (from httpx) (1.5.0)\n",
            "Requirement already satisfied: h11<0.10,>=0.8 in /usr/local/lib/python3.11/dist-packages (from httpcore) (0.9.0)\n",
            "Requirement already satisfied: h2==3.* in /usr/local/lib/python3.11/dist-packages (from httpcore) (3.2.0)\n",
            "Requirement already satisfied: hyperframe<6,>=5.2.0 in /usr/local/lib/python3.11/dist-packages (from h2==3.*->httpcore) (5.2.0)\n",
            "Requirement already satisfied: hpack<4,>=3.0 in /usr/local/lib/python3.11/dist-packages (from h2==3.*->httpcore) (3.0.0)\n"
          ]
        },
        {
          "output_type": "stream",
          "name": "stderr",
          "text": [
            "No model was supplied, defaulted to ydshieh/vit-gpt2-coco-en and revision 5bebf1e (https://huggingface.co/ydshieh/vit-gpt2-coco-en).\n",
            "Using a pipeline without specifying a model name and revision in production is not recommended.\n",
            "Config of the encoder: <class 'transformers.models.vit.modeling_vit.ViTModel'> is overwritten by shared encoder config: ViTConfig {\n",
            "  \"architectures\": [\n",
            "    \"ViTModel\"\n",
            "  ],\n",
            "  \"attention_probs_dropout_prob\": 0.0,\n",
            "  \"encoder_stride\": 16,\n",
            "  \"hidden_act\": \"gelu\",\n",
            "  \"hidden_dropout_prob\": 0.0,\n",
            "  \"hidden_size\": 768,\n",
            "  \"image_size\": 224,\n",
            "  \"initializer_range\": 0.02,\n",
            "  \"intermediate_size\": 3072,\n",
            "  \"layer_norm_eps\": 1e-12,\n",
            "  \"model_type\": \"vit\",\n",
            "  \"num_attention_heads\": 12,\n",
            "  \"num_channels\": 3,\n",
            "  \"num_hidden_layers\": 12,\n",
            "  \"patch_size\": 16,\n",
            "  \"pooler_act\": \"tanh\",\n",
            "  \"pooler_output_size\": 768,\n",
            "  \"qkv_bias\": true,\n",
            "  \"torch_dtype\": \"float32\",\n",
            "  \"transformers_version\": \"4.51.3\"\n",
            "}\n",
            "\n",
            "Config of the decoder: <class 'transformers.models.gpt2.modeling_gpt2.GPT2LMHeadModel'> is overwritten by shared decoder config: GPT2Config {\n",
            "  \"activation_function\": \"gelu_new\",\n",
            "  \"add_cross_attention\": true,\n",
            "  \"architectures\": [\n",
            "    \"GPT2LMHeadModel\"\n",
            "  ],\n",
            "  \"attn_pdrop\": 0.1,\n",
            "  \"bos_token_id\": 50256,\n",
            "  \"decoder_start_token_id\": 50256,\n",
            "  \"embd_pdrop\": 0.1,\n",
            "  \"eos_token_id\": 50256,\n",
            "  \"initializer_range\": 0.02,\n",
            "  \"is_decoder\": true,\n",
            "  \"layer_norm_epsilon\": 1e-05,\n",
            "  \"model_type\": \"gpt2\",\n",
            "  \"n_ctx\": 1024,\n",
            "  \"n_embd\": 768,\n",
            "  \"n_head\": 12,\n",
            "  \"n_inner\": null,\n",
            "  \"n_layer\": 12,\n",
            "  \"n_positions\": 1024,\n",
            "  \"pad_token_id\": 50256,\n",
            "  \"reorder_and_upcast_attn\": false,\n",
            "  \"resid_pdrop\": 0.1,\n",
            "  \"scale_attn_by_inverse_layer_idx\": false,\n",
            "  \"scale_attn_weights\": true,\n",
            "  \"summary_activation\": null,\n",
            "  \"summary_first_dropout\": 0.1,\n",
            "  \"summary_proj_to_labels\": true,\n",
            "  \"summary_type\": \"cls_index\",\n",
            "  \"summary_use_proj\": true,\n",
            "  \"task_specific_params\": {\n",
            "    \"text-generation\": {\n",
            "      \"do_sample\": true,\n",
            "      \"max_length\": 50\n",
            "    }\n",
            "  },\n",
            "  \"torch_dtype\": \"float32\",\n",
            "  \"transformers_version\": \"4.51.3\",\n",
            "  \"use_cache\": true,\n",
            "  \"vocab_size\": 50257\n",
            "}\n",
            "\n",
            "Device set to use cpu\n"
          ]
        },
        {
          "output_type": "stream",
          "name": "stdout",
          "text": [
            "Descrição em inglês: a river with a lake and trees \n",
            "Descrição traduzida para português: um rio com um lago e árvores\n"
          ]
        },
        {
          "output_type": "display_data",
          "data": {
            "text/plain": [
              "<IPython.lib.display.Audio object>"
            ],
            "text/html": [
              "\n",
              "                <audio  controls=\"controls\" autoplay=\"autoplay\">\n",
              "                    <source src=\"data:audio/mpeg;base64,//OExAAAAAAAAAAAAAAAAAAAAAAAAAAAAAAAAAAAAAAAAAAAAAAAAAAAAAAAAAAAAAAAAAAAAAAAAAAAAAAAAAAAAAAAAAAAAAAAAAAAAAAAAAAAAAAAAAAAAAAAAAAAAAAAAAAAAAAAAAAAAAAAAAAAAAAAAAAAAAAAAAAAAAAAAAAAAAAAAAAAAAAAAAAAAAAAAAAAAAAAAAAAAAAAAAAAAAAAAAAAAAAAAAAAAAAAAAAAAAAAAAAAAAAAAAAA//OExAAn2cokAU8wARNx6y5qtsLYPQPQXA61Gr4+6UpS8N+/fv38e8RGd7PJkCCEREGECZO7uyZMmQIECBAgQIEAsmTJkyZMmTAAQQIECBAgQAYDAYDAYDAYDCwAAAAAAggQIECZMmTJkyd3EGEEIAHdDz8wAAABH/////+YeHn7AAD/zDw8PHgAAAACMPDx///+jDw8PHoDP///////MPDw8PAAAAAAMPDw8eozQ4DDgd2TOPMSByN04IoKiwkW//OExBMrRCJAAZpAAY1OxCVSBzx9gBgfmQ+FBICkBUFos4uI4+YcgOg+EochzGtymiSMDo4aKkysTaCg4riWKOU2JGWQ5Ceo+LIeRVmKVRWvWj07rPF6FMfdt1Kx3y/cvXvtaQIojdc2wuiVdz99073EdDB1No5/DI7UWk50mkClq4+xy79w/V913z/URF8z1I6My6W1tYv5mUG5hYduKoIgeFj4qZlDuBQWWyMLFAwUAxAojDIBQ2ExeYGLR3cF//OExBkrHCZ8AZyQAZAhDBAEUgYHC5MAAE65YMwauCyimjHBQRWTQ+TBOICkQt7KJaKAPom021x/KxTPqH82LJsYJ/K5eHYWU1DuhtBmW1P23UxYKiCz5QkoPBYPOhZNn0EhXB4MCuYNKAyYjIRYmiSUj//r/9nb/b/p//7s77d9mWoxQdSLt/3ZM3RW//XX00nXSdlP+t2QZBi9QWgs+rV5izxeIwDAoVA0wQDY9LFExZEAwhBBBVNUwbEY1TE0//OExB8vy/5sAd2YAcHwEL9OtZSNLitrZx23USATGhWgHIgdVEMKyaJQEEnVNTwbA5miYlET4ZPWQ4VAklMXzYBdY+0EknIKSalrSIqV03SKBAiIHlmRDiJiABFFpIEVJg0QSKQyxB3QJoc4UEXUy8oyICQxBty+fTfRezWr9X/dL7dVlrqR3/t/SSTU7OpGjWqqltX/9S0nqsyCqDIoIpLPGrMtB1rX211mpiyqKgJjQevEiuYCAwYqqyf7igYm//OExBIqMd5oAO6emIFhAEKQf4Qk+bEjwYJgG0SzblpxQMPz1exSkAN+ubp31MoxSvjlPTSgUAtPrVP6IwDNNYY9XlK7+e8V9ID4fxFeiKgbCSKxxzs/liua9dTQM5wxqxq945AW6G/zpEzUhW0ple40y1H8q96pmuf93a4TnVQGOKEf8pxXYlBW4bOCpatyzI9z3Cd93zypVFJAUJmAiW9LnG4lBlMNF4qAeQiEYD1iagrgYRhSFAITwEgaMNBH//OExBwryfpkAO5kmDfweggMFvMcbGo8fgqNUtl8vyeROOxk6LYmnh++NrG81VZF3uNqoHB6ywwoEyoRvG3KqqQaBdIcTIzAKiWZgonBlVOnj0z3NQ6paLKBoQ8EjFmOYGRNkVFg1nyfGVnlIG5SZfWqyKJife0yL7llu1UgUKvWSHHBvbIpATAwy1I4G3jGRgdL1Or3vJa3DQ6CtXWpFFVeIQBgxYaABDgMjB+DnNCARgeD9GgI0J5UAKAgChiQ//OExB8pyf5oAPaemIdM1G4k/rMyrkDAD5SjuoCSj39uVNzESBIC5OVYiMAWb1tXM09V/3r38oIBt42r9pDkcEHMNcDGAjtM3hIo64dK5YVi+KP21RHAw7gG6ClKBDHrVEq4z+z1ifPNbxX0+P9fWdbrCxnONwo72qdvigJOqKsQjuweEwme9JAcwSmgqhc4gPf/W3SqWy6LRSqAAiCMwBPgUnEwXCBZajIkAJhuB5mMC4CK9dN2bVcMxgKBl1Lr//OExColYepsAO6emLm6lDEqt+CTAkygLP0W8mqsWvWeXNoiV/3u41Sfq8p82xHS5WxGYQRh7fP1Vbz91sq/u2sjv+YL7YYpJJYGMQk34nxdvx/j/dc/eYmM49JNMCQnJkm/T19aWasCBvFWhcW2HRoOhYT/X+osqk7UKGcISzAQEjEM8T71mDH0GQMEBagAgeYPAMY2qQYCAUl/pw22JIxODi3L+r9PnelVSnMEhf+is9yT9o72WVLHE6+dzx24//OExEcm+epsAO6gmFezw5YaIKmpjMukXDCakGOx0G6ZujKZPJIsapiFDE4XDhYCOQEi6jBIominrWSy+takNRhS0ZmoVmZMsxXkeP6kaJBgf1FyLhrJ0MJO/liTfSml39NkZdliSJpgWBxjAIJ8IlhiIBaIycqIRECg4aJMHkTnI/CyFoja7AlejpIp3HdugKhjZ98xrqL38KmEoruVhrOtGubWrxUglsw+rFYOK2vBpv3i+kXHh72WxlgRHGND//OExF4jOcJ0AO5elGzcV7XcabNv9z0/rD+7UeCBFRscgOtpf9Wv/0MsSH0SDyyEOR/VpCCoYPwfE58oeGzC28RrMtfA/9DQEOEA7tsMBwfMaihe8JoX9aMCQwLAaVWsIwPwrL0tiMBKuWNSDnVkJ68cTrVrLBj0b/DprMNiZnj9Xs7PAdWpSLafWMa+faFBxJvG8T1t8Qvul4AJzEMcKFEMQBFFEDTmEi1I2qL7+n/T+3//S9XU9VTPRnbaysdl//OExIQnm+Z4AOPE3N0/0ruxme4w6HIwYY1yhxSEBMBqIU7BFY2xVZMzqBWbAADmuc8Y0AgcQmoPQ3FA1rsO1rtsRgBiNJh0/D/FxWaSwG17AkorFdFVMijQZ4ISXJYS8Wa22+NGgwIbAyNCkPxyfLDFBhw9xq7gao/3PHnzfG84/j23jdMZwCCqQDMAoFKcdDqjHRBZj70vPslb9fb///6WrpZk9bmZ/rd350J7uqnUot2cYiMQUYGpw6HPojBR//OExJgoO9p4AOPE3GaAIMkhjk6m0KS03FmQoHjmSwNl13B9G6U9evP253O7FKbFyOXIYsXmSqC5VE9dSYiMTIJJbhE0hIDpdxoqfYB8DOzORJOTvGjLRAFCT2mzPdnm/MhPz1d0kUka5ysw+y7IQUMCA9RTcsXaLhYqbrv0rv//+f4+b/j+m4j5n7j+/mfhHrXueX7in+ONqjpxeHeJlR4fkU6Vzw8F0g+T5c/Gl3qdH82oSqDlNzqchqkr2fu5//OExKom++qAANpQ3KDcD2su4WKWrS55/8zwhvzY61cfsdlFmEk/nqKt5ExphQYDANgjohifolOKisUQJVzzZTdkktnyOXcMOSiiIMtMcDDeQC5QGYiYiu+bYxlJY5fFKF5//z+09Py5nJ/P79jGlcz67n8RfRdvL9jP1CWkCyrsM4PIicU+7omFSJ3NSNVUehJGUPSVQABJMCiQ4sDW33FAiUBOxv7ted3j+b3/1EfR+W1xXXv/9Rm6Hm97ysbi//OExMEkO+aIANJG3GqG5oeNjj0HGw971S0dwOC+1mWraV3LK/smlenpjgYYoOYoirPHp4uccvPT98/z433//5////v+Qg1LLiHzfufZ/Z39+2lE9BQXQUVDE3U176j/O+55mPT18yVyTdNMKDBayiCh4QD7NqjZJAAsL9NybA4ssdsQAAxXDBa4JdvJGG7GFCINAKM65gwj/7gocDoWTK/mZEuowPVVkPausvnrMYDhL04QAPbBVGBbKRdNSNLi//OExOMoM9aIAOLM3S5xQpQez6ZNizA7Rq55i0bIpprLxjTVGBJJA0QEYBAEKSxumXz2pJndkVspTU7daP/X9N9lGjOZlw6m5qq96/Wi6a6KTJrTHuPEeZmSxKFaTnmdSlNd9dTqSUpaC0VGCdnL44y4nLpoOQnmzmZfMG3axomfuioAiIMQ6xYOCJqlQk9QHhmlY1xAozOgAUbGTwdG5hBDU1nnEmR5Wcdwa/XcOez177OPdRp5K/8rt7I8N6ut//OExPUto8qEAORa3Tb+8/egSfe+CmIMtEFppBPYzpmEXJQh5uP352iHUSsBw5iEtxMXgIEd2msUyeUmkVqUUrBIcvU9KyEOO98Xo3qFYCYFOIOtRhAqT0mXbkNX9/36vdfjuYw5/8o/y//5h+/mbfe/uWy/f3K0T3fxs3Y5FLXblBC6fXeasa1vVSN9/L4CsxXOQP2/sHzsqmr8bzz1S6jdu/jbu/jut2zLJRXlNNL6N8JmNUtO2Jek+0vOVOo+//OExPFA0/5wAOZw3LLIVnHasC1r1m1hljj9/ljtY6ohDCIqn30JACO4MFg0eBcJsrAkh1Hjas6K5VlEp/9bpmqW8LfarsyPf7uupj3mdlstHnq5TNtO5fqabekxpqVkKdjTJJQiIcyHzgYYIyyifZ/kz2wQmXqYl7S3EJeiPMNUfM4akhOmcpyv1DV6gyiy9M8arTkCmRwZKWNO8KjdCCK0NU0ndz8cN1MdY/vXN/v7NvD+ZY///+/w3z8uaypq//OExKA+K/54AOZw3bUwsSuxK61nGvLZTWnMMdY//Mv3h21TWr9W1jJLFNM8jcet17NqvS9ub7XrZXs7t2z9BhP/Y1OZxeU0uMdmcJmIwHOS6jkkbzh2nv17Od3mWv1j29MWNKAtEYMKwPCoq85hrunUgY192KkXMBH0MODv6xwQ7S7e621lSC9vfzC4/1+ltUmff1EV7z+vzZ6zS9vVVO2MyjODI7Mm8MqCG3MbRS88hlWv/NQ4IkQwRIiV6lIX//OExFo+xBJwAOZw3DSZGOwJSQWrKPIPLIK1tEGZouZZq3NMfSipawXZKnQjNqUhRLyyzufJe4kYva+Na1znKa/nvDdBf7//j///48w1/KuHLH8l1n8ZjCAa8jv8vR+xz//Dud/9X7f63uXavtf1Vxh+Ts3lMxFqe/NVbtS/9PqvS7s26epWr0udN8/RX5+GJm8+slpmHRuLujTw1DVivU7jhzHnc/q6qZ/2zZt6mnU7LG3MJFc4ILCgEPPDcBMl//OExBIr+8KIAOZa3DKgMS4l/OzVF3//UD49//gqWc/7j6xfv/9l+7+eWNV3LGfdu0sPIrFPDC6ziQUhAUZZSraNCufDGMLEISPLB7eTortkEbvcq41alj7VaVUVvV6+bCWDnJeJME6Gw3SSLxtdNeeLhp1/////vZqSdloJJnEG9N91daluplGJ8oKLpdOJ6NaWutr7JKVPHVJWUbk0vso8dpstZiidM/rQj83QyRhYgKjhI1bU3k/K6jQxcoHI//OExBUrA8KIANvW3F0mepuX9/5TouE1KdsJWz7lor1At6zZEEkL3r3Vh1lJfWlaMoJovDqclJOQkoXZeo8IR4ATFGlmZuJ0jm69/Z9Bef1evWSPrD5uZjoZFCUOkKhTHfBKHUbGqzZaigjDu23///////////+22Naek5M1+z93U8137advqD7Yuri30+7uLY1tb2dOhzs5RqrSab1SchRhyclWdv79eWCEBHT1IgnhyMuslaYKeaGanMh5hBqP//OExBwuw8Z8AOZW3BIM7GowQguaxCZftPcyawieHpTBTCDBOHjndlMZonCWGdStlljci1j/ylMMuphzOGZtmGVztaNZv3Y5zVamw/96pr3/9yVTufeYyqGwcHUDAfiUHTR9uSPmkTZUlLa5bX///////////zooOnc6+73dH+7SOJ3f8yykWup9e7mLmnccHpZDo0ZSfO02Lx9L1WEwlUXHqadWPHP2pOqJFl8x6ggtjBCJTV0bM0hFLxwEj0Kz//OExBQmU9aAAOUO3AkTzVyGDCwwd/KfNsaFFkvpGIx4HEPADIycNSLJjKi4iQO0jEc1+ZKOuvRMUH5kblxDKQ5xNmRo6Sblozda1s+ykkX1JGR03TM2CoFwGCQOGjo1SYah5a3X//////p5t//VDmR7Pendv/0tueZoiOlTZjjzGkRwfLE6jQbECpxBScuH/QbqdhoNFPQKWqMTRwPAYsEGcEoJbdZhldSmkgcnGuiB78VC4rEguRg5hJifAARA//OExC0mO+p8AOTO3RsioYMoxGND6lZN8xNKqpiYbVIpV00VoJvl0ckkymms4XieJxDWpJDsiabzEio+hIIFh4FwuCUS3U40qNCDOYn/////////3Q8+xk9mr//6tMPQoOElN3eydFIj9znc4xCDVNU88fmlzPEyN2jJ8WsJ9nBjmyHxTGRAd8QqEQwBJ+mPmCcqBhfh/4xPuEYIIIOaxkPrkoMMOEDqXknWoYwiym+tSavk1Paiam9dGTmZBSYk//OExEcn/AJ0AONa3aJwFzNF0UDpc9SzBtJZqkhmBJCFB1jBk48fNjIrQN0VJGJgl////////9f6SC2poop///WkpVa0DrHXMErbpL6VNFaqRaWEJTqTGEHIQ1nTFBM3NFrVONcoUWIgRkMsR7dowaZY5dTAwTBsLgCYHAS7jzColmYg/goLFGYq0wcAQwDCcSBQF1Ok6TBwwGZSMfHSRJJC7LZFHmKleoyTRUpJRt0UEhljXbor/pdFtJyUJIKS//OExFomu/ZoAOyU3RC9HCcwYkL7/+/v/0fTv///sc7eaajkRGfnKahqf0Ozjr1kJi1NZTaPm+dNtQ5BWGx0VSUZBdA2kjnPlR4ZFlq5LnmayCmGiYQCExgBjS9oOxkAmELFjBgfBgMBwPMSD0BIFznQZMwozViZszpSZF/2I0T7Tkqo958x13mOWWP/rve7yyx/uW9a7jvPX48/ey5VK63ebMqPVjnuZ9FpElEgZ4oZU/V0REcx1zZDURFKr1Iz//OExHIm4tZIAOZKubb2fztSYz5rsqM1RYpCFYzdnPl292jpf37nPhf/NHNsWt6yAZ9snaf3FTDZc9s0FidujyDwoYGaGWgyGK5wcAx5drayB1u0cpqSq+RULVziNmLBr1EqUpqZ23MxOIWvvfekJ5e1BrFEJh2wvYmll2ZDUo29q1ozYQrbDIMDEPuQY2oIyqVCGQbGq6ZCL0tpAUHFAzjsmPKmcICkH0LjZzMo5LHMzUjYjLVSViTbqVYZQveN//OExIknI/I8ANmG3dYzn9eI0JXIm2PfKXHL1NJRSW3FMKqTmRQFBDH4w+kbuyCJyKHJm1OP/HIQGHCQKk4UCgBFALWIBs2QJk76St0UCs4PVuUW/Kqye9jJbWJvx9v7bS1fO0ZtZmafH/hpqbohqQARTLVr26t7L+mPebtxuxObFu3Z/zH2n85X/7/1ltDd7r5uxHnc/3u/if75Z+Cd7oiTFSmb5/5+SBjtdvkYMsgVvMHh/AAwshisBcN6kQqu//OExJ8lqwpAANpMuZKKgp2DtLfcEimS+c55ill3gEJRLWRBCHyyjOTbk+zBWxAY4lSyhmDWzs8TUjdBlGN8oX/l+WfK8bt49qWN8/WrGGG//Ck5Xz/Ckt595UpLGrH1KSxhYw1hnrCpYw2bl9ExEdiph/QBsLKydGcIOLnJ8iZ03SQRQ0NPQt1vWpBet6f///Um6DOr1W2v6lrSWgktaCtSbrWt1uowppoXeZm5fTMDxfJ9IihOLSL5u5QKhmXy//OExLs17DpUAM4g3PuTBABzCCFwZQXAVFEXKxBGWnOmBfNjrlkrGjmlWFBwFIVDuDEAGyGx2m9AHAKDBSEmIBAUaCjRFUEJlYKlk62iEwPEgtiLAjDDJlBoQ5TcU1V9M6Yiypb0Rjccgaljkrl1WWfdmspdfy1jOXbF6kq4W7eHbMow3ljlauVbX45YYWr/cscPxw+/U1OZuWSJdE0gzQ8iASIIuHYmScmWtTY/uPv/r/66n/6//j/6/+qiZh19//OExJY0PDpkANZW3ERd8v3///dV27pmmqnRu089hql05vT23L5pKYUXWJSqizlCccJZLTtAzPKHC/YSiU9qh5FzXWiasc86TcJg2uxmxUChgcQHVDYazIQMHZiMLJtmxNEfkZBoUSmIAKyhSowmKTBAJGAkYJBIQPTDKBWByTBgL7Qc/yGCTL53rlBAkjvU2N37tnXP3rH8d28e81hSWN833c3as605E81iAZ6gci929Zp43aqV8ZfE4pjTQS46//OExHgxc+p0AOZO3cPGgEBKQPFwPCI3FoOyISGg/HguTG5P/////////oYaYaYeYQHFMfP39eqqx1FHKDrHd1Ra6OxzqSGo8IkdQUiYQjgUEQo5EUD47ZJFlmEOg6q5i3JjSW4Ge1b6QxcoBCYZ2xwZxBWYUgQiq65CAxhQPYKDFlzeSsCEDe8zbDWuSKUuGUKqk/jUZguW3+HwG82efZW5dF396kve62+75y3leozuXWst645T/Rnkna2qtI93//OExGUys/J0AO6U3SMOXymzyiEzGGdVZPZLnsoe6GRqIoKYKUjOIAbBAhdExKQAsCgA4Wiprv////r///+rGOYTj8WTzDh0nHJ7FjXX/TruY4/Y4uPChZ9kPczU9Dao88mIxVE4VRcJsLkuaRDUakRahlFETGRv6FRAaagoED7hp9A0AGBi0c2m4OdBMAlMSAKGKg0Z1Ehf1JN2+knh6gQzBlt2EMHO52IM4o8uahh+I1fwqYyb8dQxJpda1qGJ//OExE0tk+p8AOZK3E444RyMu9Kq+qS9TWtdwq8t4UlDDUftVIxjNRa5qvKYgxKGnUkEjAFg+MFBJQgAhRcDDRNBI7GR////////53ohCiZxISBXQPDxNK17f/slVKdGczK9HS0h0zHEBZA8JDVHCIqLTnKwqqpwh4KR9phVGZ3PVGHQQPApjKjRJYDGIcT3eWuz02exAgZOWkI/xfx9H6paB4zDNPm5auDAHltc3VYnO6yuMgV1ZyrwGxbWGtR6//OExEkwc9pwAOYa3TPO9aWhky6/2ZlUO8/4nKrO+1HAcae3dijO3V5NRBhj9WtU0sk9LhNDMCuDxUo4PQ3PKSWSY5UVTRNnXf6+m+tPtWpbf7//Uqiiiao3Lpw8xdUS5oeUpS0V0FqVoK7a63vW1V2Uq2mmtepzU1NU3OmJdQMkTiqTfBZ+AwJYSnEYWCscjFmHEYYAgYlyBAFMhxKHiZL9M1a0KhyZDBiX5a1FmIA0r2W5ihdsINJZ+YLyMZkP//OExDotqt5wAO4WuPIgxB5u6iCwjfWsrrlu5Pa1p2IdwxibL2a2fl7WHhgXmmFa15IJhudseAcCmCMeMQIwoFEhTo7x2h6LrTJZKHlpQNhGH50sp7uYo2iXvi4Zxf/XFf/98bnT/zHx////EcOm7a2j6SqwEMF3q6JDNwrhQ8LTwSEShOHSpZ1VYkpuXOEARMGxw6G7TB4QHQe3ZYA2QryIMwPBTRSEvgII00tfZJYTlvDNuAmWR1ar4nUUuu5Z//OExDYqouJsAOYauDlvLTbvp2Y3O1ZhFmd5X0wuxrtdnsjvb6tuxc/DMTo+ljDmpso0CAIzx6B/BAkmtx6AuJHbDsPopIEkMlSZ8wPdA8t6Q+sm6kHq1e716N2XspV/3QZa0tSnSqUtbJrQSZ6bG27vSQq10Bpw4DikNhBYZlzQ9YiiYrsFAYYkj2d8jAYjgCYLAspehNM+ysik3HVLzBwFRIP4hCWBoeEQX16sGoFKBxWXTN8Dk3bN+wm7F8P4//OExD4pm75oAO5U3FUCBN3rrPmc6yyrrS3lYyUMyuWq6HV5N5dksi/mrsMXt4aSP/GpRkI7XbOq7dmK4b/sp/CgIyMzFYkVpFmIaIajSdKujdTv9G6sd36Nf1V/bmlnqf3tsfVO2i6folO3/Ila7HKcjF0dCmQrjS1C4UMFUM4VRjBQTBwDZijyb0XctX42V4BBYDgUho3VQKKHcqysUZQyaZjBdAaMJN4c60h7qXHJN6Dq1qYgIeDz/5emjL+5//OExEonedpoAOaemOjSLx8WE5PHHu1nhNT6SPv8FtJvGrMFpFwZY0ReFzOi1KqamLS4S/nzlw//nzvHZZ9oDalYkodxilRjiu2l6wMlx0gfX20Q6nv9qBQ4dPojS7XXVV8tGVIAQHMOhgOzi7MQgQSuUoEQEGVZ0BAeNuz+bAOQlhEXujEXIqpfq1HwUZG8ZZEwZGyefwybkvf92YKSvt4/Tvw9+H/WX/jj3I6Y3hHaKUlL/EJUa/zJnepR2MkC//OExF8nAe5oAO5emBQwOsNt7tOjarHphhv6YSUDGsQq538xKffYn+MeDk+ETKBVWhqlIWceGDfS+oeLHnqUSq8N0Zf+VYwJHpNZaVqtwAAcwvIY6NUMw7AZLVuIiAEwqTEFAa16Go6SUQdppZTNLMgKWrapQwzlfLuDtSZVvvJWr63v6zULX3sFkNtvLUFwFZxqVEKj++AfZkxokrYrZv9K3H9Xx40h4M8QCFaGzFNulqTPvfakrE19X//xr/0f//OExHYkAfJoAO4emG8fDr34frWqkXqpRrJbheTDQtfX71aWf7XJS1BwITfCwiMR1M8jzDGIlCBgimBQAY8kQ8JlYZ6KDmHGk8tzESgfmKT8oeADdtWr7vF2R5Vn8FF5RvO7DaBPmOdlPb+72tN5e/gwA0W23TITK1ChRFxLf3yza1hSF1i6odYJsasCddD4ZYvqf5lWgYb1F9b9/T69c+8ONefeXwaFyZEQOl5PK1m53ooeoY4TjjTr6iGcLHBo//OExJknqepkAOYemFGf1QkPWmWq2pYjwNGLQun4xCFB2gIOkmFemQKAxdn0AuaEEmrOfXoApEbDLMrSTiTecjqxsx5qF169ZD1+71fBjan6/4VEaZzC7ix3WeGEY1fhxKMed3Hbxl97ZXU9MWLtHxax7mUy1pAPvGMvUNW5q4PVkvjPgf59/vfif2q1gKKLYTvY9gEKudXddcswfIAONEFIYrtEjzgqL2bvAcofHNQTi0Br6HAaYBSxsPBmAwQV//OExK0ngeZkAO6emEIv8j0ZoIgcb4fg9hJhZ4KfuxGnrCqA3JNp173jFhbmbm3bFBOVyvYnFv8u+9Mewwyyc/lirUbtOay6woRbEdWkOrT4fRPqv185xfNrQU7fenaTLBNDiQnfzmCqfe9lPPNfLVn3vGuoq6x8UeWDH//Lol3RqXvekvyp5oVLmha98obDAECo8QmkILvKV4ZUFXegEMTps/HAjGoBMCAxpbumdVxJo+2kDmIgGUJZ/H2VTAIB//OExMIm+dZwAOaemAiHQuBZTAh+lLJblWCzN17tVZDbVd+9LVt6/befr+0c5r+1HlwyyrPJj3m6fHWufe//r0f6r079Wa+UQdyU3rmdS1xUEoJroeaLOcgAgvV1IjT///HXf7nzMvt///////////H1P9MizForygvB7FDXSv5f10HVWg6+rq5UbjulU1lGvZlV2mtWZEM8QrDV2sl5jCSbPJFIDBUHAeBh0BGdFSyiBIuQAgw8lC6UP25kQjsy//OExNksq/ZwAOYQ3TgJs0XVQMywF4sYxjb3g0GDv3EGJb3ySsrhPO1HAx/dSYh3//Ons9+5Ys/rtfn/vCrztSWXrm6jDGYybGtDsxfyyy1LtZmCQFg1HxuNxaaqm4juVKOYr//+y7p0b//////Pu7PORiqFRqOD6GiZ9Uc+rmzXbRfmq2xprkpSK8/EcOqqQRgH/1Vsa/px1zChMOoFEeADrIyGISqdFEgQEmzNFMJiU0mq00pSyAKhsVHQQGh4//OExNkrW750AOZO3UrBEAs97s2xImLrKLqGQQDw+LSGG07pNy3XUPgXH8oClvO8mIzZytzca7j9eNZYYavf9SUTu8bUMq/gHrcFAE1qt+nldHvm6lm1TYSi8IoWjxbFskKEZASj5RJEWBMAyLYiwvyEqpiuyf/u/Xd/9U////3tNNZ1OXU8hOG5UkkjOc6nnNX1Tr/ucclDHSimKq3YoTtPIXopg8QiP2puLEJyOiqsLhrjI8kQSKSZt4IymXQ6//OExN4x3CJ0AOaU3VV7PFilD0xGMGAEp2iMLDEnfBEE4QNMKFS3RbMAjQxOgK/jEdHAozwaJgt38Edwgfg+9vYsASzPUcV5Yz1defPe67z54/MPZnqu2RUGGNJExITjbyNlLnFvZT8YnXPw3hZoq+W7VmufRPHDiLjxBfKzI2HACECcD8MoeIhjUvGRuMA3Q//UmrqR/3uq+vTpuz1M7LdlpmA9FUUhPB4GGZl9RmkxoomGpu5eRSMHOO1lXW6L//OExMk4bC58AN7a3O//s66mWtFnMC46BufJhvUmmt1splIGq1Ws3XC6VDgelbUGpYjjWRD1iW1iB1CF1MlsjSgosHcBosATUEDooDqjGKMFR8PFICgmWXGwQsGHEaD6nMCiMlFiuLYcWSUBF3DSqDFcMcnrg/uHG7xb+ZPRZ7XrigIvzCpdHQkmF5ZPwyBAYeGm40158ZBncsQH3dvOISLMvMTY8qJkwEJwtJICNAtBKAqSGkUIoQcTQ8YIizBx//OExJo4RAqEAN7i3bOxQZNnT2dP1f/9+x9Sq0aq2rZVkVug5kkaGhZWRp86ZGRHFwqlsvEyRciZaLJcSMUF1qW+l/f237f6+pRsdSpzZwZIyVVmXYwyipyosTc5cb0kteKN6zETYZQ/9E3cdZAQ6xJ4WThYsHaEUIgvhOc7IBwYGXIg0eMfEFSSFNEYHNdlF6PtFrV+1md389bci9zeLucx1p+861yJIp/RbiIWAOjFIorchUPJA+YjhLU0y6O4//OExGwuAyaUAM6avLEkjInFBBzo1n0iwdobIU47y4kF3MCTRHqMU4YG5LCXFhxaSRsuii6/////T1srXW/+rXSRMSSc1NzJI6tObGwACBtbv//+xqkIJhdD6K1KcgXCS2pJFeijMDOMt9L+hrR2o7EQSKE4b7NYvgEkb17DzKVOVbT7JGGs9dVhJtOA8GeBu0RMs1XtPy5+QqCmcc7SMl3e6VlcgtXOSOKX+YtJdapSx1hqhc/UnFzkwyRbmVku//OExGcxDBqMANaa3Xzvcs3P3rCgfLuedBKUzc1GKF0OkE8JeDEMKJ2cYBcHkdYkROJwxMBL0DJFRIMus0del///X62ruyl7/qpJTqR83mR6pakUVKTTPGpgedBJa7///////v7mi9hbiiqAqXCZKqh05RHH5GBIaMiuV0qjjTBXcl8uSnMWOgOzJRwGbN9EZhbiShm5L9RSrJgTtFhDRZLBRiZCfEB9gIcCyuj/T3vJv8W4yPXNt1os8LEcXvje//OExFUvBCKQANaa3Z2Gkm6WX06bosElX5wS0O7j+MW3/1pXa5+oPTNVHgmpOKiYF8AF0nF8eZJBczJ01F+us8bosmZIaBk3W3t//q7rfarqbqXo1VlE+cTU55bqdat9JJb///+/t7dautVnr0kkUXLtBkfuf2RlAPnLovPKdHwcou8VSAUtp9us3UxR0WFznFkmklhh+zCqYULA5HHr9RQA2wZZkZmY6DnjLJ3kAs+dTvYi5vcNXXwZIngoadas//OExEwn2fKYAMaemJrDCSjY4aE6L4gaq0lJyPImdOTzWXrJX7szRKZbXj+JATxlKBsUh3E2R+3cN1HprUL2vaFc8LAOK7v/5kNu+Uc8EmwiMBtIQA8X///+wwLgMJIAVaGf3qJgsVuYlzxGlSzK9a6FmwdPA9emjp4gqx5wVAwVOSvxpFgjDSd2xMPMjcJQu9DFkQgAkldcLr2W4lR186HJDPK2Mi6f3xkaXufFQ7B5ZpKEoiOe5ZLa/VW2plnr//OExF8i+cKgAMZYlFJp8P0+pjGxYyPzTanJ6ucHkFwAfGoUdf////iBrAw4ulR0IGP///6AiXLGULsiz1BZqCsf+zEU5QGw2l2YSlOrJ2Fdv+1UzkwNM5leUw6y0FHtDxjxbou24HYMCoxqnApVEd6HrS9IQGP1ZuMsNeJ3KS1t/Z55aWKojQLm2k5OwfZCzzUTSjlAwLpXQ3kOWz7OIlO9tfFr13FmgzzNrbBesW3z2LA3Tz7zu0kglJGSTv////OExIYmQeacAM5emP/zYfKRetxAi0+z///0BNglAJmS0eXJoZZNak26d2DGgUsaPksMPIOGXdR3qaJggUOJX/M0tNKUVmSSDJ6S5qDjjv/DBeY0YBkVM986itqlrzRTmPxGYv9uymQz+F6gli1l6X+w7BUjnN1JdXnbetVuZfvvcdY4cx53DRlHkD4mUwOKAOAAQFBQxEMZx1S1b//////9P/9NlmZHSX6P/////0Tyc5xM+8/prUrGn+uvAw1g//OExKAmQ+KcANZK3Dk64aaMO8ZiaTTWLUNhG5X0IjG/gH8byXiYhnKrTJ9mXAJkn05ynwEeEOLFWu3tL6+YsF7b7rVSuGmFdE6OqWFmsr3W/mta//ftvFvbdfqw2Eow48aiKAKIglDYeBcI4DTDQcjZTqaP///////Vuhy20Y6aabej//////9PqbnOOnKULoNhs48bNqYUqN1VbwME0oRXMDDA6q0jzQ1MICcSCCXBg0RAQyhYHpHLnaC6YVCA//OExLolS/aQANPO3QITEMZWnYWFcNKhYjPL6TlWP2A8wqSTBDTUQplanJhiYvFpB1aurbru+I0GKrMS9wA4kPE5Uey9Ue6/qljIZWMpA8qo40OiAGCyTleTf7a6f+lfRG/+/MUVWAiIz//9qH6MJHhQKPFgKFQqEg6GhxqNQ0MCwD9bJgDgFGBwECYL7BJnKAqmDyAUGAcKWAUAAAi1GEKAMlimdLoyIAEAja7JUq3prH0rXlG0vkmmpngoiFGz//OExNclQsJYAOPKuAYj2HAn3VxkvZhrNLHYocN33CEzKslhYGkOQhQG5OJ4xpUKZccQR5crTHChFKjIOdnENoBsxF5Qyq+ZNp3HXPVoUzlo21KWSOeCmx7QgXUZu5B45WUC9ImyXbaKRQXZuOv13n/b+H5csTg7ew/8v4vfX+1pIQWHiLUZRgCA7M1rhPGE6EAig4Q0dTBMDzAMohEERhcCiED8I9mAIGnEYBCj2XzcdaaciKEUZQioqRMRpkrv//OExPUtcko8APPQudSxWwuXt83zC3T7x5rLmt26P91blmfrbicYsb7rmV+1jlj2vxXrdMw8+ijoCw0BcFgtEs84RCBY8aFmZFd+iWsfzndPTvnV6KjfvU/1dVPHCDTzjzqN2pq6Xd7v21fn3RjGU9OjINGE6zQgPu/EBd6GuQpWAmBRIAExEBQYA4GZgXDzGukZ+OA2GBAASQgQmCcBWYLoGBjcg2mDMByYEYDYGBBUvMAwAwwOgtTDxCBMD0Ag//OExPIsW6JMAO4OvCoAgdMWmOEYLsjg5aZS9qz4Eio0O2zYIOb1fq5F0wfSOjLpC4k/QdgaEw3FM6WUuk8joRiu/r1MiWo30pkrWH3i770Ugo6GNw/F6mdNdf+XUmM1jKMp2ca0s0wSTDBVOIwFWAVmyZJCCWuuU3FxkU2p5ztrDnLv6/P8f53n//9/89bw7/4dy5vLDD9/rPn/+v3lvPC5VuUMga+/MidxMdMdojeO5LoK5ZvzdP2/ny3h2K1q//OExPNOrDpIAPZw3Ne7/LEopIxVuVZK/7tv2tNlzuy+D45uWYalM9MS2J2ohGY2771tTWpFOsMstIbnJ6s9I6XLDv59z3u73dmlpcMeYXZJT3J+pVUAUCb9uI3MYGg+dqIzSAAsmXjJQGMIAIMQlXM9CYL2x5J+HBgDTFwpnJhiSR2CBBcHjQcfmeywKgleXcuWpdEZ/Wr16Pz/d8uXHLo8NYR6RvxS4ZXl4lpGKUuF1wYqwSdu9+zKoE3v9xKz//OExGs4W85gAO4m3U+vqydn7T5/OG6AAUQHRwDTxhFkQlDFIZAE4FBFigRIgjPb9XV/////X60rHDdBNyeWLJG2OEhhLF8ix1R9BJ0lspeo/MC+tUmZqkkajWG2iXzQih0yqUkxkyBqYmKZZcwLpMlovlcxM5NFxi+fO3pvq+rfuCDKbsmM7Dc0PBCHJsBbpgaEaYiMixzB8BzBYJjcwBiYPVYmjQ/IDBcSENInADz06UR+pBmyKcd3KbTKJiHc//OExDwym85sAO6i3TH81Fr2+Ybkssx7rvbFrf63ccWx3PKyncuC9/4XXfx1/eZQd/Ps9eqpz60soU1LeGL/iwgC4C+MkC8Q06IGRQPKTTb///////lRBVbHnus4ssHi4gcc3FQY30jVJTpmru7KQWfKyqmmSBmZl4uEwblYlUFJpuYKUpa1lx2MlJmBeMy4XHTIxy0cDyzTvkF1bChXEXiTdBIbGEUiBUEmEt+xAwKAkcJ4weI9NqPx6ljr4jQC//OExCQvY8p0AO0a3Fqwzo4QMniA0Z4PUFBily+RYGAAxoHSEwTZuKyVT7PTHa69jInz3Mhah2I5uNYZmi7IlE/S6bKpJmRHm6zizwvxOhdJ8tDtGKAlgVB11lockiDwUipSrf//////qc1Td11IVuktFOpkTM0NlMySLqQrZVadbpvUo6YprOs5MKkDBkGTWbudToILWkTDw9B6ZiTTYuE91AevuqWOvhJ51vgIDn2+YOsU133RCZEBRY88oJge//OExBkr6858AN4a3AS3hZgFmuH6yqtaXW8sWuWneKkBbyAWdhTsU4sQtmte5u9DUXw/9ZOhD+uXLL4ObYt08onk9r1Tee85m1+f/hOfn/P7I9fhqlfG9f6UlGYEHLjnXYuDZtqM09D//////tOJu/a/dNHUo6+mtltY+11LU1N9G5enzBbJGyU8ks6YEodNlGJOLjJGZggPQgOZGBeWfU7+gRp3E8HIgNkAyFm9eZuYayxlhddh5IKmVDySFm3h//OExBwtq8qEAN4a3Nmo3P97rqnbB7eXN1IejGFb8YISGfalvd5OLDSi9l+bAl9OJYn4Yl49pBRmlPTyJmCFziSiG7Wl4UMARSn7Un8KTm8MZPu3z9QDnTxtMkCYEIClkmZGpTHYVlBBtA3RdBqnv////r/2OJtW1JttXXOoaaaSqFNaaut1q1IMttSC+xos3dzU1Zi+bGZiYJmyZsZnWOGkE4Y+hxpFkjC99iqwxik8L0awjsEIK7d4KngQWX8s//OExBgra8aIANya3H/jE8rxNhs2kogepSSQzqdakkiGp1omI6hay2xNE8OkOsAX4kipkRwpIVuPRRNEyBDNBdpSOZ8h45h5TnS6QBBknRJkfC0jYkimPgJ0A3Cw2dSRdL79lp9dJv//1qb0lt9tCZFpKGmui/oqdtmSQax5akKSDJO18xXupZdtWkSJ5I0W9iczHi+O4zSTWo8bQ1DKPUwzUobZhb+ZuCOOBpHmJYSgtPOWEIsJkjT3t7qKdWr0//OExB0sM7qAAORa3RMS4kN1R8ltPpEMJJT1qHQbaz5SD9B3FIrJDnDfC3kLFT6J81HwBRDSmCzIgAC8IjK5uojRIyRdVjIV1Bqbw5UxMDIfxPQKOFiRjyBLGQ7HQ1qLj+h/f//b3Rbs59NmdaiXNUdJmt5rq1Jm7rLDpQWfZbuyLqUydt3MlWUibkdBzFNkieaO6jElRyzQoJD5P7bep1aHfs1o6woxbsPDCnbkSNq/mumPmIYcw1zXK8PYfrep//OExB8rI86IAN4Q3IXXZ//w3MX/5y7Dbrd/+U+4P/9cla7IVlzP2UJqAbUt5jQSxeGVTVJBrD1L1YYOoKlO7EO031N39y+ev55asSsGtYgCgCACJoqikgJhF/L3f/u0XdJ////////6JNd3aKUdG7xVfx8/vtcIoiLQ1kzElbmKud/pItHtzn1HWMaBggOKDx4lLFhEdihVvrqtv8LbXDF4gHB0Xi8Ji5gBwb4DEQRfq2ovZs89IbGq3d/SWdlz//OExCUnS8qYANvO3O8hyK2F+2IYabYorN6vU6Fo2zGSsTcWMbg/lczxFIdCPOlUqdD2ZHFtXESIkC4H+8xCgQXOZ9JS9osK89yY4UQ08oDwTiofB0Nhwse3/pT/////XX803/9M890HR8uTOZzHalaWatX3OnMlNXQ6VQ09Z546Nlt+xFWYl/cZUFBxsCqrZHK6wqLM/aB1ceQSJ0QKBMwSu3vgH4cJpOe4JKzXQmLjSfUJlbhvhuHCXJDXQn4C//OExDonq8agANPK3Ni+GYXJVKNjJQTFUKKKhDgdZ0GieocYRsjBOWFPt7ArUKTpwqFg1H3GtHtFjXzTNvTGBNBYTGjRBg0IwwMGiCr/6af////9L1o8vZP90VKkKor9S/9tv/L8zGMrhwPxZmhwPs9SoKP8pwE6UYg+9i1Q1RUtlGbPgQKOlIElsgrvgCAi4Ms7jWy3b8bxp5QvN1Y1MpzmDEhcI81HAAEAAZOLIX6UrXHJ+ehOnUdXqSPNdjYy//OExE4l4cagAMaelP4uLIrUNGAQklSONAviNQShUrGzMERihQIl4lp9bpbTyj+BWNtjkvEePI0RHMMUF////QTFkpCTSb25qtBxa1XaaP+Rw2SeaRF6rXOdbAAKuZT9ggCcSSkWFeRG6uCsXSb5EA0JFTxTOIIJHQbbccdhMBg1NMF5zJFFhG+g5O8xzQCZBsRfnMlaIOp2u2djZXsr9nZXr2yZJ0K6IShORc0AqToNxCDLPF4oGRWOcWZ48jxZ//OExGklycKgAMZelKPbML0bIMa7m5wnFXQ38BjoxWTUXCH//+1D2Or5cKOQ5dlYgQJQMBP/1fyskRRVwu6qw8J6nqOXS8FrpN3LwgUrFS0CjoFUprNSdKgyOjfJQzgLCLWvbG48rACsunGEeDVQ5XdV0ZY476P8708U7rOGBdtT6HDYmFDls70KPATY0m8nhblKnVGhRiIU8YFe1N6pcWysbfxNuWDWNEexNQ2xjUsNVs7xegZnqbAZmw9//+vd//OExIQlcc6gAMYelPqIhITkrrWDAmdGMd/s/71UpdWuddQm1jM3UrBL1XB6wKdM2vLnfC/0BsHWBkYnZCmtMqnOJQwtJJQacAqL5N6468wmYcGacMvegtKaW3AblRrtefl1bOVy+d3zCfh2ZjNOGQgQKIWBHBWBVC5ChBvCsRj1yo+IR6acacaVschQwfj4iLkAkxgKwhB4TC2RjZjnfnP1//////Sv2/XoexC0NeVd////9ar69d6AZsn1uqvg//OExKEliuqgAMYUuOc5e12oIyURILoW7hEAG2yvCBI3oUBrQaQGljJiB0VYGZLIsyy19QQMBuDfMJgmGI6DUheqX22YtaEZevBuWTFYOBN1hwwbiXksjCSSRPEMOiSQi4AINZFPUo8J1T0Ly2s7nRUce6jCds5SmbhPQiSTz8sqzdIzUP2f//3Dg+aF4Wc84Ohog8VdbQX3f//6llRe3LtR87pnM8BSTe2eRoLZb2lliHMDlQ9fSnNGQWCfuyuw//OExL0m8c6YAM5YlCBX9qPgFg8HdhqAyJdrEXesaTNYNorPizgcFIp99HtcrK7G5ui/OalNnGvLeWY+6YqCeYIgC4CqIknDIAaIkklhaJlI0dDDjZiOjuVLHkaCqOioPBWChJRwWCE6rP0/////06qpiHly5pgOtBAVeMWTeluoNuEn///+mrDy6gE0hKW08EFRkX7ylgyBB15s8UUzC9Vt24TQzmEawJ2ZMESEzeIoQLBS60o0AD2pNUnjH/AV//OExNQm4qKcAMZUuK7L2ICDFHct9oBTqhq5tpb89yjjXZ2z96XZWXrjUDkxMB1gUVQxhfAaJKnieSRtUaF51GB1FSz6LU10jhiapkkSA8jQsHuFzHqxcKBk7J+///+q/6/TVYwYyN2SmtBNGo1U6jO7m7tmAyAmunAEyv/OftL1m1uc9qqtQUK2galjmb8FY8aVM4f0xssuFK3xCqc47x635oRARRhnL7+F6bP6EI1JVqsyKwZyjeonATPgN9gY//OExOssMvqUANZauHDc0pppWRC2699aNHvNuED5bp5Pr+p21uaXmzr7M0rK9tJSSWWWKenkWvxrd/Ovzn8x5w+8wITE4lRyB7MDxIDcpKg///q/Upv//tSTNWzZ6Jk+gg+gfRUo1ro86+pP/9XW3XVrQXU9+lZZmkByEw5Sb96qdBdtsgAzbQwSMw4MEi82JNInYqhxIknGM5M+J9gIKRBAg2rUtV9WktZjMAKZOVKaaRpEvZGnkLrIVSJpgVEJ//OExO0rU9aQANZa3YyKSeo4cOGwBSpYVwnhilafYUrqVV27N9Wtw7OU2MZaU2eKzK5YitF9Jxr0W+UuS/s7WoI1f3KYzZ/eX/rfPpR8ykRAMHwKgeF2Yv///p0//b/5S+pSlVylRFKVOjL7N0fVf//5dak2ESQx5MUFb4lN4FVfREBOEAAc6x8QRv0EABk3YdqnAIRCwAZpYALxGgdzGiIqUUteFm8m7D4CG+EbcgcMlgy5NBgA1hwy8ggQZijR//OExPIsa8KAAN6K3Zy3VBtEvaeAY631iU24fwllLNYZZuvQ2Z9nj8vdDsAuJEcYq6rnS2ldCMz9JnG7l2t+t/jzf/r/fpdUyka7J9//97prpujldv/8t+8QIyHcaPRiKrLt3WqHbRzopGOQ7L/1d0ibCwsLhwYURBmFGDhGYexiDBSZ0GOdpWHpMWjAFo7ApRIQ5mMmB9F6Z6PFsQASGzhZgAE8SwCtrTb+bR3llLoEIXsiKU4kJYrWVUkizMFT//OExPMutA5wAN4K3FkKyi2xdp7pBE3lhqXSiVdmIrD0quSCM42JEw2TU1ukq4VJXDst+1Sw1fqyqVU0RtV7kbmKmd+p/ce/zndNZXkWRkQf23//+10Wn617U/kaQhVF3OeLWjetGoTJqxGQisd0d/d3TdEOp1Od1RSiCqwUKMHEsKZhMZzinJiPfe3FKhcMJMjJeh8g7LGQs1GrqykUkhg48sLO3J/uUSdfjBkDISVpVCkuunrU7BMUN2qW9jmn//OExOst5AJwAN4E3RZS1XXqZSj3e1m1tX8mdnJvTLM3ajitm0/34uxiuv4e2jY9zGP/9/7t/Hzu++//7ts2Pb3+/zte//3UFp3P3G93/8bP/DeO+/MtkCogIebdeAj36QyMFp4zchjn9AHvTUzELvREpsWkQ2T2uiARkryT/3vHh4QcMRERdphIVwGpSu1TtwAIeE14i0HVLel31sKW37IRzFlm+kwcIDJwPuIqRSEzlGC9MIfFybWxcSOUSPMO//OExOYqtDJ0ANMM3Vp7vfu1tX4Kw8tuOXnyfrP6m3bPSvTJX3bXM3VU3Pd3NY6oxl+umn/zxE0q+kRyvfETE1c+89Cwt3nxIweDVQ9PJFQ9rxtsSbZjnkHGllHwPEUgs9Rgi5AvLB0pZYej31zw9JunkcPPPMEJAkEUVtDLlrNPJAN3XtAwUN2anMZYwYQWNiuxxPyWz9ybnuYPvC2/DgNl7BIQH4qQxnxLLtS1BQSz1Q8h+s94s1RvxwScnSAt//OExO4rxDp0ANJQ3DhlmFbYyuxEsn3qOLnIWa1giXu77y2vN5aHQWj5NMPjenW7KRD+p+3faS/rVecy7a22xbZ2tt9vfba+2zzNvsbjO+W//xo250mmwhDCYPMuFqKRn3YLZo8Qxm4t95FjDgMagKYwGEGAoN+VizCoKTtkSLgaKYoSSU5CY3LA4EUckLXW7DCcy6hsL6A02dXqdAlCUO5p45qxrOopKa0jiCUrJ5fMDCjUJJBlE6wNz7lReD2U//OExPIvvDpwANsM3PXhuX0mFT8ML+OPc+YZ41a/eVL+eFaX0eNiksXsu//95+s+XPyww/94c/KkvY1znjwojFD5zFHrGPI5tFa9WlW/Nbmy2+nTM6HotjyRSc77FVHbKrFHVKhTKKijkEnU6CyKjIZEo/ZEd3sio7iyEFHPKhBwgMIRhyKVJTEI8Wm6cpFhzjBgeOmAIiCrOy4B6SeGhCakUCRuYMv4PTaaEPjoGEg+479MtAxVSGV/GwWnNkDM//OExOYspCp8ANYK3JBCoGESAWJPLsUDLFkE89aXV3GVOVS73yBtY9kXN1pZfsVngl/2W5vF227aRcos7iVXvK0tz5yewxzjc5jNtb7nLWpsloJOO0uFAuGQVo9DYuA6EgqYX8jF4ehcU///9mRa2pbf/03TPpmLmJLlhgSDM5IuUEnNpm1TpdGp6aK1GSZBNSpAyLDQyJhjdC/29XRdSa0kE3SJBAkiIXyXKR8fSXKZJj6aLUYlaK0jyUunFn5a//OExOY5ZDJsAOaa3UqEkF8kJoMOmOCImnqd3GBKIC6pgsBG4JsbXFAOCqxgsDmJwPTLBKiaQwEqAphk2JOIYEoUBRgNcMi4qZ4WHC/FiYbRLjmVqBebwbhvueMj32SWK+9O/bx9pvb8nVIozN0vvZztaW7z7E+bt0lv+vHA8lgmGCIEfi1fFVWYVCY8qJA/IxUGIBICoUHjJ////6f/d7HqRkYqoXcVSBikW1J1V3S5urdOjrmo5YhQjciKHErf//OExLMz5BZ0AObU3N/2prziIVBYcXCIJ1EWYhAIdB45ZRVOFhSs6fkqVSWjCRoBjNEACgC/kJqACwqCaiYMCgxlhIx2BIIAt4CwETxYQOwoSAOlolURAYDhVFABkVxlJpNlAwYdSGHZgZmxMqgjNBlQPu7Y0Hnr22H/hkzDu+vR3vG5vd3GIItS6WOGXOfPlaWPzrKURbnK8xe1XgK3vCGa2qZsD14VobGZ61SGmHCIZuakTR2iiHiDmw5X//////OExJY3zBp4AO6W3P3//////FX/Ung9oPWUOuSvl6kM3s47j5uP/vnf3s5pR9xV5ocmXvuzQ/b0DRaKectYzN0iWPCCJkXUW0gsfXNpaSES9WjoWuRVZ4uNqgqRTAIua27gBApwk1o4LDCpDNe380UA1Ln4GQ82aanr48Bs7U6BmxypBYiHIbsFCGh1E488KkB9zclRafOWkaW3lCAhvLeEXq9zbBO99sMez+AlbKtd8VUaPdA3Sf78GW95WJDr//OExGkzPAZ8AOYW3epFfwqR7P6j1Ot2y8YVcKj1b3lfvVO7EC9tUb18f////9/9X///HXSDlyUpxytM632bHJZrT773x/P8/DLrp1Nc1dj6Jy26nS6+oeUuKz6h5aj5uhaNGhOMSbJkoptl6Ny5A1R6nitkBaRaK+3RMZiTIHgFHilgERzMEADB7DK6sbq8prkax0+DTs9ytrVvnGXZazXgr6ljad0sS+bdiACmiwzt2kzYhOW5+Q28HBhFes+j//OExE8tBAqAAN4K3NudI8KQ0buNIjtNY2431KJg8UqblVFWrXZ3Dus7+dWMgCKsAorNFrlMxBIPGlR+3/+n+n+9q2KxWdFYyGHrsZYiOdlL9L0bYfbK83lla32lEWYpwkimMukppjUFncVEWDpXnqAYRcJgmHwwMAaoW0LlgJROcQAwrVTZSYsIq+el9GUTkBhZd1o2Psz3VsWXKh031QpXQFLDQqBGM5bg4IYdKlQtWl0YMOR/TKzm82n/pfbz//OExE4m65p0ANvOvKzTjFNBbJGVliq56sjInPLl5UmXQcMHFOQeIkAdk43DZhijrjS6M5irc09a39ma/1pT+v/1+n6u3/SrJzb19G3/5/MSVHDUGF/WpDHKXVUCITLrMBJozoR0IDB4hIWsZUophESgUDOQARs4T+OSXaXDUmGiWd5L4mb2pK8mV6w1GtnNsSv1OtGtUl9acJl8JhaAFqDejAzaFeKlam5ftsrlt3TPdiGXQHi0TC5Kji8SpGIO//OExGU6RBJsAOYa3fOYzhiC0IRAkbbnbjkglb8QRLIm91e5Bb3ZDAB1AHYlQAHwkQESLYEfDjC4DxHgJkFwHoHMJAdg6GySbq/sy1cxRWgnZjRbt6001MnvVWpWgg+pSl1KprdVfZS+tJBBlW2UgpjBboJoIPakylGKzVIlzQomCZubsdSSXf1qZ0tKs1EC1oUn0uUQj0Y9g2u8OBAwjCE4VDQOEFMiGDBoDXtkegQAdn6eL4a66U5lZbvCbnxy//OExC8zA7p0AO4a3A7D6Gc5+pDh3Uo/fuTS6qo7xJw31WYNmZXG3ZgfjTk3q0+4zOiZbrStRQzFeRS90Fcx93ri1OV4qz3dqcdijldljMvmjwSUFKDuEiD8BbTGohAFEMEF1I4TYJmTjIYcfR2mx53/7etGraknv+kdabuvZaS2+tlVMpk0zIxU1r9SlrXapS1LmCmek6aDMy36c86ajpgSZ84iHm+jJgFaK3pABRgTT2HpDCG7MphgQCDyKrUL//OExBYtS7p8AN4a3CXA12uil38J3eG3j5ji9OePa1FrG7Ra5c3r90WHNwrdPOsQsv+/Aq6D4blCyLVuJKNRTU4wBT8lZQILM4dJ8mtKxVonWu4Xa7tZ75A2dPSOJ2iOhRnR5lgTATIehqP45kiWHcXxMR9ZIfRyLd////23+swWZVpKbrr3WnQqWitNGtDV+3a3X02QZSCkHQrUyqkk0DE6o2TPukaknu9OxKqvHocEIbDHVLr5g4JnXBcEDpMF//OExBMnk6aEAOYO3Y2jxnr04cP3Pdw+HOfyGO/qbx19Dj/3O67Q3vzoanNzURypHqJi0UzPO3PS+mZHC7LiJPMMgpfpReVOy8rcK1NPTFrLKS2MeTWGNmau/0RQdCOAkUBswXBkCALCooJsULqJxMUMfb/+jNv3/VVHkORdf+7rsl72t//T+rqjm0VmMMd33VWYwnw0HnWqjrG48QGZiIU/ylYopBbFSAVHCTAgOT1rixpB/zM/bCmm/YmPfgsl//OExCcoE8KIANvO3DwZp/ZicNSq51q705HlhFkcfy8XJjj00xM77Kmur2UR0dx+pE8fCw+vm1tzTV1uNWtsWjZKmiMJ2QUgQJisA8NiwspF7aHP1f/tS97T2+pxyD7FkNOW56eYak92ajMepyGUTr7d8x9ka56mO5lb588556ueODt1n8Uql7Uo0IAo2YlcOg0kfX89j7R4Qhp/DcRs6/dBW42bUJGdRB9lHjae1zllBEtp4FRoRYSSa6kqe7RO//OExDkuDCKMANLS3GobE5iYJI3T/W1t/P/z9ceZ9u/EiFUoy3/f/73/36///9r5BBaiCGURttzuc57lb4vi5JJcjE4XAOAMT2gQGJiggID32HKKXfmvsX5BAnIRhcT1Vk6TGpZs5RucKdGmCCE7Lo5KYXNqG1lGU0dIMUYTmoxOcJ7UVydGxUoMA/XVUWKwMmZmDm5WlgQAF74TlZpq/O8/uGyndWRUd/1qdlUUGIFQOXe9r61+ikkq+29e3+vv//OExDMytDqUAMCe3D/8+u//jPrT41v/5xn4ze33WNhlzDkb695eNJbVKazrcu8t+8XhLRiIeqTHYVcjUqqlCpo7fNHTicdP9FzUjPPGUDGysrG6TRCF1c50GS9GRFA5KlLNycVC40vKxwJwiVphH/HUZBDgeqNOSGQiyrHGfhOznPJ1SJCfrnENhRDfHViGHWTtac2BYYD8UaPJ2hROErGa3N7tDBDKkpWvt///nS5b77r///v/5///////1//j//OExBsqBDqkABBe3P19f6z/r4//9feBnMkPFI8XVab+qenzTbbZ7RsYokWJHgxpmBkZ2WjLWMr0XFusP+xOOle8VrGk4SUTipen8bSgL5AV6hHArHrSXxEmUy9DXyjnYUAhR2kvU8I1lGxoQzoQhhIjfOclbahTw7yxlqXxDUQr3NZQwqTcaDqPxcJRKCvqdPHQa3dZVh/vZUDn/////v/JSf/////7/////////1//r+3///3/9/evrGNS4xK///OExCYn5DqsADhe3MTY1/8+us6vXUK7dExBtqI+nZcx2Fws6isr9qjybVyt3Cb2qOjYjHIpHF8dy+u1IT6otq7LyyHWwHUoDigQLxTqRJ6E9F2YmMtxdJz8jKM0yWk5OZWK7KJTjeWFHPm9BoW1STui5QVcXcuwsIhwtijVS8u2hrmT8RDlQE////+War+DXy+////y///1/+v//8Yz/rf///+v8//498U9HeKZjRbfWv9a9cbtnO8SvXCO5wI7//OExDkm5DqkADhe3Ax4DPdtXdfaum6Ja0zDAYYq4htrekYh5EsVZKoQ/2olxLoU6TYFdWEywo1Y0BBJ4vx2p1ihqU2nM7lWdTUmFYMZRJRHKdqVyFHcqbs2IT5qUR0tiKa8siJILEbHyq3mLZTJ5YEX//+v9f/L///5fev3//xrf///zv73v69/v//f//9catXMGHTOIurwcb1recfNN/G9+Rsvf5fQodZWjczZHhK9gs+2qY8WjFNDeR265+NB//OExFAmvDqgAChe3K708z7sYxXptcCxHQjGBV0SLIq4cKEzyMq215QrKHIejFpIN6uOuKX5Xo9vVa+llcpl5ehrmAi2HTK/XE8aHFclxtqb31ENXC/GgCiSf/7ab6//fRy//z/9Fny//3////jW83///3/9Y+P/jX+Lff/vTftv31vF/9/Gf7QZL5jK6t3U/ixLTWfyLWM3iuVYO61cGyicfNZcXSIOdIniQ8+GJXPjijN6cRx/GyYrk1qmM4sr//OExGgl3DqYABBe3HMrU5WXQ/bJ1lXp3ajLiqoyHRp3JImexMrpwspVIj6K5xZ6esF02Ro+n00SivZYlQf/2rv8v/RKdWdL6f/vy5EQxCQt7++e8+3tv73Xfz/8/7zr5/+t/ftb/Wfr7xXe4Oq516/Hx86z8sMOA+kiOUGa8VhZIcXMKNEcWx9Hr5XB3Dm65uzqBXO1c3LkWlGltbCVFijsuF5X5Z1Su1FCcmGAX1OppnZkSlYSus5pJVK2VDTh//OExIMn9DaIABBe3GpzgKJCmGR/CftCqQ5uap4L2LGzFxGrCgtzE5K1AAFEttUqqlKyeQtqIUzUm5SshCwxGUiEYTNz5CZGG8nSkavnWZm39lp+bY1M2mdtvTb5/p7LbWa538u922rdrT+tszaZm297NlxlVc8+elZZdT6YyLS2WnoWFWrVhktdKxaqIIi2S2PmTgGw7CkGo+vJTGj0zAu1aYupr1dUnMR9esVyy01a7R0qtBHWBrYCUbM91atL//OExJYnZCJsAChY3aF2F2z0y5FFCWJFEwGGNDhXl3F1llzq+N+JhozJUNp45NSR6GAlR5IzGDqYYV0Gx+4lTW2dI/nqRnmxFbZEI9DI4mJpYmVh7mdr641jU14S52mVZupZ4u1Q6KrtrmA6D5w5HRBxTxBpTqzrqtCp2SDUcLHSKytB0PpwUiosoxiYeBV8oaK4qKB0tEgpBqHtA2PxZxVpNg4kVlqsmmGHdHMdktasUv0QA0BYtMTldl3A3NGl//OExKsnhCpAAHjQ3VfEgsEOVla+NIHkelVLLh1oNUzGmJUyaJ88hu0cUJUnWUmaVvOSveVdJXM+ksc2TFuqfr2SlXJncKIrGbKoyrSh5VkFBlZ2yrBqC8CYBOKFK91DQ7HB5gxs0oZQYQdCCCmCNqpzq7M5WmardrwEKdh4CnAQ476SLNxJ0wwXUShEWFJCK/FR2MfiVyf5FSJlWOxjnKTVNztq/ydswZzCb+wsu2JlY6DImzq2NnUhZzoujDH4//OExMAmVAooAHmG3YNLEH5KEjctjcLg8s6qMp0SM1JnucwxuxeZsOIaDmQ7mSsGJnJtjqEtBgjJjTB3GBiGFrAxh6FHNcSP1eEYMazPmQh4uFW+RFSH2VhSmYVe+UuFgr/rHhgA2ZzjcHzWqxFM1K+f9yErDFFAKc8kNSfWAEUovM2YCcaZlM7rtyX0surP9J+vscJR1sDiEylq5KS0jJkSJQRD0WHtTo/hiCp9Q2yRNLIEm4onuWbSohnjlpNq//OExNklNAogAMGG3QWJmGlVVULKqsWpZlRWWvr+TKu3NaV00kivf53OltKoXLPQntU1C5CSs3UFbU/0qk989azEhpFFaR2KZlJbGnJTkWSniqGBbZ0q1v/g6eLNKw3KlJ2zS3+SslntHPbdCFgiNTSjTet2ncGoMMCJFOVqYswuetNyBDGPLJQppSmTq5njf1WtZ9+1XpK0GxW9PV5apRpOZERYKaKDja5rB0koMB5tpVGhWXIHYvslYlkqmeQo//OExPcwZCIEAMpS3ZuQm7mFeXqj0YJa7H/PSTKklkkHjR67MU1Mo/T6U0Xl+CRxyjXjOWN0CRcjvy4b/OZcHV2k6FQSLip4ThwUagcqRP9J5OPOSV0kEJQT3S6ovcO4U3goJMs2rYlkcCjEK1G8MDlzVM2dC9+rQTxSIT3hXqBGHAJzKFUAIinh25ev4WM7laU17P/XiN+kqZRKkDVpURolJsUnObrIGottrtmVUJhcPsE/Q0UNFVlkeqw84tGB//OExOgr7Bn4ANJM3Vl0BxfW2m53ToN9myjiFJqfeeYEsWauZUUNTg1t6KUIupcc08mjlTiODkqP/s2VpJVpssUanCCRc88ySDZOOQO8BdN8K6ksxeIKTyINQXjwkp5d+5STnWay+0YNNg1qNiCNIyhGTluLBpcgpO+umqGwio4wslWNDZYrpM/1Oapft26bn0H3qkalcM0k7jRZCF1FCREfIlycjuQXmjDZZGCY2HxELuZeSgoK81s4RDKFUUlE//OExOssNAn0ANJM3QdDURlcBSeCNGQLTc+KIMaStjZGI2UWEbxuJSQhKmnSZRkrqj1po45Bfpx59ZMqZbNDLRVO09R1hw2pc5yrX3bJX4qtYk6tlWF7VTFKZVOevlRa4KzfFtB0Jk8Rmx3FHLQirr0GyzILmloylgoJdX1acVcSbWgupyH1A0x9lO6GHqTfcYOfpVHCxJciP38uDgrtM1Z0488YIGRqZH1FsqJni6scNqTLMmkQv8I3Gzaqa7U3//OExO0yhDnsANpS3BOH0K1wPwpRALxnQ04afPMuUiy5CibS1Esna6arUb3INE0ds5Bgo2zlEWVic+TVZiKZ6JSsZ/+1wcaRus3rNSLO1tXu4zIWxv3ieV2b0b13JuR3tji8pitq5SM8Mjymu3pjlwp72s5/hF4Oekl/MrnLX3mik2Otv3aNctuRX3d34YrHUXOFFSnZV/7tXPLdWvvDs/V5almdakzUkfWTNZOK8MakTjSE+xIwQKyooy3MfgYD//OExNYqXCn0AKJM3egVN1FGhXI149TXGyN7Snx3WS6kNXJ4sEtTnNuDuibE2svPHrvFwmnUUVLuxT1empqTWu7Sd+d35ks67RL8pMW/4SX7+IfMN1HqPuO6eC6MjHJku3mzZxRSOle/Fs9XJO7uv2QusrF04JjyVFJNkj9mn8mSa9RN9cbhpWkVKUXt6v2gwltuv9qktPxhOZY01FnAX0UiiYqHhSdqQMUZshJR0RBptgKmC6bDAqi5oMtqxJka//OExN8qJDH0ANJM3TEiETabFcyxASgmylBJVkXNllk1yF1EeiVl4ZJT8AZA2zDDq4Ff5ijkSZM3xIWIJoWkRLJ6hF4Ueg6CGQaCIokMAozd2g6VoxLmrem6iaVQs2zCRqiJFSMpnkkjDxckjsRs8vtSpMk4EHC8Cr5IxM81RhMUXyji8/gBppSmEps/OGB8F0yVSfOvJEGDsmfNLssqK4rXfl0s5ljqnsXqKduTFN2z3hSDjJIdUPslooTMk6i+//OExOkxzDHsANpM3ZkskjDt9pMqOOiI2XoZtsGbY5vZKFTLpTWlFDNJCTQN29ZCylZVvCdY2tPOYKCzT5A6bIezRiXKIwYSfLZIvXRvSzZEEpLTmbk2ZMYDxGz0HRvYSiGeCNbrfKvDZko/u+S2nnu+m5qoZ0CP97DzSnPP81Vo393JwnpanRk7EY5RaiGtWzKkKdnk2fHVaoHqKZN+xnhrt7t+xaqX+37ViplSVidwVpRrpTR5KdGGqYsEcgQF//OExNQr1CnwANpM3Ly5I8MPdBOJ25MRiVGofyW5dG3dl5/ZsiHrXP1jN1wMosixZU5D66FuIb9nqYz7jTkw1+ezs7biRV4zdfcrGr7RVqy3nH1btcl3WtFVSlzi9pt12Uu6d+/9HS2q8znnPTq+c4/awvfUa8PJ8RqdSxewbbs+N35cz+jVNFDMQMLRoiKjWawZrrWn2gl8HbhyFxRxn9lMSgmICsUA0JWwSEJAjKCZDGGIkKTSz4qpmdcKirIh//OExNcnTDn4ANGM3DzBNAEpw2rKjqJXFSWExUu5r25ohnSbDXmSkUE2GiFC6mIig8+ZOSqTlyCoBUycmRynOWSLRbc+Ejly8JESr2LR1EkJIDa/muST2Zmn8z5bfVU/eewMuTv3k7eWqCW0+V53CV5zrzP9zTcNXNVpHJbN+kYJJG2jOV9NjHytee5aLJRUSjbwqXMBA5aJCeSsK7mkvi7j3QLD0Ou06LYhoEsiGx6fEkeiCJ5grRPOrjlMhL3I//OExOwvHCXoANJM3fvdXJUrD7kcS45KxeTrH3I3VzKWBul82l/762rm0Q1ZZY7kyxWBgkcjJlDAwaGRqwUECcjI1a2OX5HLLKTKsdDJgoYMDCOhkyrHQ//////9WtQyNWCggTiVQasSqqDUiVQYnDEqg1MrlSdP///////TTEFNRTMuMTAwVVVVVVVVVVVVVVVVVVVVVVVVVVVVVVVVVVVVVVVVVVVVVVVVVVVVVVVVVVVVVVVVVVVVVVVVVVVV//OExOIn+yGEAMMGvVVVVVVVVVVVVVVVVVVVVVVVVVVVVVVVVVVVVVVVVVVVVVVVVVVVVVVVVVVVVVVVVVVVVVVVVVVVVVVVVVVVVVVVVVVVVVVVVVVVVVVVVVVVVVVVVVVVVVVVVVVVVVVVVVVVVVVVVVVVVVVVVVVVVVVVVVVVVVVVVVVVVVVVVVVVVVVVVVVVVVVVVVVVVVVVVVVVVVVVVVVVVVVVVVVVVVVVVVVVVVVVVVVVVVVVVVVVVVVV\" type=\"audio/mpeg\" />\n",
              "                    Your browser does not support the audio element.\n",
              "                </audio>\n",
              "              "
            ]
          },
          "metadata": {}
        }
      ]
    },
    {
      "cell_type": "code",
      "source": [],
      "metadata": {
        "id": "9Kw-NxFtaPwZ"
      },
      "execution_count": null,
      "outputs": []
    }
  ]
}